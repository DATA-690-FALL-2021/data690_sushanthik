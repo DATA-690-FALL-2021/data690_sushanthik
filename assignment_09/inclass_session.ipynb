{
  "nbformat": 4,
  "nbformat_minor": 0,
  "metadata": {
    "colab": {
      "name": "Untitled6.ipynb",
      "provenance": [],
      "authorship_tag": "ABX9TyMAg/39vfB7eID+PSGrGPfp",
      "include_colab_link": true
    },
    "kernelspec": {
      "name": "python3",
      "display_name": "Python 3"
    },
    "language_info": {
      "name": "python"
    }
  },
  "cells": [
    {
      "cell_type": "markdown",
      "metadata": {
        "id": "view-in-github",
        "colab_type": "text"
      },
      "source": [
        "<a href=\"https://colab.research.google.com/github/SushanthikPoreddy/data690_sushanthik/blob/main/assignment_09/inclass_session.ipynb\" target=\"_parent\"><img src=\"https://colab.research.google.com/assets/colab-badge.svg\" alt=\"Open In Colab\"/></a>"
      ]
    },
    {
      "cell_type": "markdown",
      "metadata": {
        "id": "v1mAZDnVQ-tu"
      },
      "source": [
        "## InCLass Practice\n",
        "- Name: Sushanthik Reddy\n",
        "- Date: 10/28/2021"
      ]
    },
    {
      "cell_type": "code",
      "metadata": {
        "id": "GhG9wmvxJ5CA"
      },
      "source": [
        "import math_function as mf"
      ],
      "execution_count": 1,
      "outputs": []
    },
    {
      "cell_type": "code",
      "metadata": {
        "colab": {
          "base_uri": "https://localhost:8080/"
        },
        "id": "IvjCXY1RRuhM",
        "outputId": "d6897bfa-8408-4249-b8bc-ec64fd8d9729"
      },
      "source": [
        "a = input(\"Enter a number:\")"
      ],
      "execution_count": 2,
      "outputs": [
        {
          "name": "stdout",
          "output_type": "stream",
          "text": [
            "Enter a number:100\n"
          ]
        }
      ]
    },
    {
      "cell_type": "code",
      "metadata": {
        "colab": {
          "base_uri": "https://localhost:8080/"
        },
        "id": "eAKB9pyQSCXp",
        "outputId": "9d3ca0c6-2a81-4014-9920-10973f45336c"
      },
      "source": [
        "print(a)"
      ],
      "execution_count": 3,
      "outputs": [
        {
          "output_type": "stream",
          "name": "stdout",
          "text": [
            "100\n"
          ]
        }
      ]
    },
    {
      "cell_type": "code",
      "metadata": {
        "colab": {
          "base_uri": "https://localhost:8080/"
        },
        "id": "l-0_wJraSEze",
        "outputId": "5e8b3a16-575d-49e9-85f2-cb0426265206"
      },
      "source": [
        "b = input(\"Enter a number:\")\n",
        "print(b)"
      ],
      "execution_count": 4,
      "outputs": [
        {
          "output_type": "stream",
          "name": "stdout",
          "text": [
            "Enter a number:200\n",
            "200\n"
          ]
        }
      ]
    },
    {
      "cell_type": "code",
      "metadata": {
        "colab": {
          "base_uri": "https://localhost:8080/"
        },
        "id": "qFQ60VVESMSO",
        "outputId": "d4bd5de8-adbc-4f1d-ed10-5fac7c33593f"
      },
      "source": [
        "c = mf.addition(a,b)\n",
        "print(c)"
      ],
      "execution_count": 5,
      "outputs": [
        {
          "output_type": "stream",
          "name": "stdout",
          "text": [
            "100200\n"
          ]
        }
      ]
    },
    {
      "cell_type": "code",
      "metadata": {
        "colab": {
          "base_uri": "https://localhost:8080/"
        },
        "id": "bsXXFRd_Uvq0",
        "outputId": "c6b8c7c5-d91f-4878-d03b-0916ca93ad60"
      },
      "source": [
        "a = 23\n",
        "b = 50\n",
        "c=mf.addition(a,b)\n",
        "print(c)"
      ],
      "execution_count": 6,
      "outputs": [
        {
          "output_type": "stream",
          "name": "stdout",
          "text": [
            "73\n"
          ]
        }
      ]
    },
    {
      "cell_type": "code",
      "metadata": {
        "colab": {
          "base_uri": "https://localhost:8080/"
        },
        "id": "Srrx1oRYXGU6",
        "outputId": "f8a20086-8667-4308-bb63-ff0b1277bfdb"
      },
      "source": [
        "x = \"hello\"\n",
        "type(x)"
      ],
      "execution_count": 7,
      "outputs": [
        {
          "output_type": "execute_result",
          "data": {
            "text/plain": [
              "str"
            ]
          },
          "metadata": {},
          "execution_count": 7
        }
      ]
    }
  ]
}