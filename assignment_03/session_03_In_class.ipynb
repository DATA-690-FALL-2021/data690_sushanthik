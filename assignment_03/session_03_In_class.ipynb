{
  "nbformat": 4,
  "nbformat_minor": 0,
  "metadata": {
    "colab": {
      "name": "session_03_In_class.ipynb",
      "provenance": [],
      "authorship_tag": "ABX9TyPs8j+y152DmRxHIE0mZ/ye",
      "include_colab_link": true
    },
    "kernelspec": {
      "name": "python3",
      "display_name": "Python 3"
    },
    "language_info": {
      "name": "python"
    }
  },
  "cells": [
    {
      "cell_type": "markdown",
      "metadata": {
        "id": "view-in-github",
        "colab_type": "text"
      },
      "source": [
        "<a href=\"https://colab.research.google.com/github/SushanthikPoreddy/data690_sushanthik/blob/main/assignment_03/session_03_In_class.ipynb\" target=\"_parent\"><img src=\"https://colab.research.google.com/assets/colab-badge.svg\" alt=\"Open In Colab\"/></a>"
      ]
    },
    {
      "cell_type": "markdown",
      "metadata": {
        "id": "-Ui3ZWj88gzs"
      },
      "source": [
        "# Session 3 In Class Practice\n",
        "- Sushanthik Reddy\n",
        "- September 16"
      ]
    },
    {
      "cell_type": "markdown",
      "metadata": {
        "id": "Dr0lCxMI84UZ"
      },
      "source": [
        "# 1. List Comprehension"
      ]
    },
    {
      "cell_type": "code",
      "metadata": {
        "colab": {
          "base_uri": "https://localhost:8080/"
        },
        "id": "FvJ3DfLo8-b8",
        "outputId": "e07f1f7f-0d9b-431a-89fe-957d7de07769"
      },
      "source": [
        "# This is traditional way using for loop\n",
        "x=[2, 5, -7, 10, 12]\n",
        "\n",
        "y=[]\n",
        "\n",
        "for i in x:\n",
        "  new_number=i+10\n",
        "  print(new_number)\n",
        "  y.append(new_number)\n",
        "\n",
        "print(y)  "
      ],
      "execution_count": 3,
      "outputs": [
        {
          "output_type": "stream",
          "name": "stdout",
          "text": [
            "12\n",
            "15\n",
            "3\n",
            "20\n",
            "22\n",
            "[12, 15, 3, 20, 22]\n"
          ]
        }
      ]
    },
    {
      "cell_type": "code",
      "metadata": {
        "colab": {
          "base_uri": "https://localhost:8080/"
        },
        "id": "yuNiE_pm-Xuq",
        "outputId": "d4a75e91-66af-4378-8bc0-6f1cdb52d0d3"
      },
      "source": [
        "# a new way using List Comprehension\n",
        "\n",
        "y=[i+10 for i in x]\n",
        "\n",
        "print(y)"
      ],
      "execution_count": 2,
      "outputs": [
        {
          "output_type": "stream",
          "name": "stdout",
          "text": [
            "[12, 15, 3, 20, 22]\n"
          ]
        }
      ]
    },
    {
      "cell_type": "markdown",
      "metadata": {
        "id": "YAghFKRb-4Fr"
      },
      "source": [
        "# 2. Use-defined Functions"
      ]
    },
    {
      "cell_type": "code",
      "metadata": {
        "id": "m6APIcYf_RWP"
      },
      "source": [
        "def add(a,b):\n",
        "  return a+b\n"
      ],
      "execution_count": null,
      "outputs": []
    },
    {
      "cell_type": "code",
      "metadata": {
        "colab": {
          "base_uri": "https://localhost:8080/"
        },
        "id": "noHn-A2D_v5U",
        "outputId": "cde30334-69f0-4221-f5a1-a530f3916eca"
      },
      "source": [
        "y=add(5,10)\n",
        "print(y)"
      ],
      "execution_count": 7,
      "outputs": [
        {
          "output_type": "stream",
          "name": "stdout",
          "text": [
            "15\n"
          ]
        }
      ]
    },
    {
      "cell_type": "code",
      "metadata": {
        "id": "QsYj84XsALu5"
      },
      "source": [
        "def division(a,b):\n",
        "  return a/b"
      ],
      "execution_count": 11,
      "outputs": []
    },
    {
      "cell_type": "code",
      "metadata": {
        "colab": {
          "base_uri": "https://localhost:8080/"
        },
        "id": "6YipQwJx_-ja",
        "outputId": "1d37d008-32ca-422e-a6ff-3348d5963947"
      },
      "source": [
        "y=division(10,5)\n",
        "print(y)"
      ],
      "execution_count": 12,
      "outputs": [
        {
          "output_type": "stream",
          "name": "stdout",
          "text": [
            "2.0\n"
          ]
        }
      ]
    }
  ]
}