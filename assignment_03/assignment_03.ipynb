{
  "nbformat": 4,
  "nbformat_minor": 0,
  "metadata": {
    "colab": {
      "name": "assignment_03.ipynb",
      "provenance": [],
      "authorship_tag": "ABX9TyNN6ydJe9ojUIKI1B0Ky96D",
      "include_colab_link": true
    },
    "kernelspec": {
      "name": "python3",
      "display_name": "Python 3"
    },
    "language_info": {
      "name": "python"
    }
  },
  "cells": [
    {
      "cell_type": "markdown",
      "metadata": {
        "id": "view-in-github",
        "colab_type": "text"
      },
      "source": [
        "<a href=\"https://colab.research.google.com/github/SushanthikPoreddy/data690_sushanthik/blob/main/assignment_03/assignment_03.ipynb\" target=\"_parent\"><img src=\"https://colab.research.google.com/assets/colab-badge.svg\" alt=\"Open In Colab\"/></a>"
      ]
    },
    {
      "cell_type": "markdown",
      "metadata": {
        "id": "HYYB0CHfBWhL"
      },
      "source": [
        "# Assignment 03\n",
        "\n",
        "- Student: Sushanthik Reddy\n",
        "- Student ID: TY99095\n"
      ]
    },
    {
      "cell_type": "markdown",
      "metadata": {
        "id": "E5oG1w-_g4U8"
      },
      "source": [
        "# 1.Print them in a 10 by 10 matrix neatly arranged like the following (one space between each number):"
      ]
    },
    {
      "cell_type": "code",
      "metadata": {
        "colab": {
          "base_uri": "https://localhost:8080/"
        },
        "id": "y4tCXulCBiB9",
        "outputId": "c7f49f0a-eb9e-4761-c0ef-ff95165087d5"
      },
      "source": [
        "import random\n",
        "row = int(input(\"Enter the number of rows:\")) \n",
        "column = int(input(\"Enter the number of columns:\")) \n",
        "a=[]\n",
        "for i in range(row):\n",
        "    b=[]\n",
        "    for j in range(column):\n",
        "        \n",
        "        y=random.randrange(10)\n",
        "        b.append(y)\n",
        "    a.append(b)\n",
        "for i in range(row):  \n",
        "    for j in range(column):\n",
        "        print(a[i][j],end=' ')\n",
        "    print()\n",
        "    "
      ],
      "execution_count": 7,
      "outputs": [
        {
          "output_type": "stream",
          "name": "stdout",
          "text": [
            "Enter the number of rows:10\n",
            "Enter the number of columns:10\n",
            "5 4 4 4 7 8 0 3 2 0 \n",
            "0 5 7 7 2 2 9 8 5 9 \n",
            "2 2 6 9 8 8 3 8 0 1 \n",
            "5 4 8 7 4 8 1 6 0 7 \n",
            "8 1 8 0 7 5 5 1 5 7 \n",
            "0 1 9 0 2 3 6 0 2 3 \n",
            "4 6 8 4 5 2 5 2 5 5 \n",
            "8 6 6 3 2 5 3 2 4 9 \n",
            "2 3 2 8 9 7 4 7 5 6 \n",
            "0 8 4 2 4 9 2 5 8 2 \n"
          ]
        }
      ]
    },
    {
      "cell_type": "markdown",
      "metadata": {
        "id": "lyXwn8oxhZHR"
      },
      "source": [
        "# 2.If the random number is an odd number, print \"@\" instead. like the following:"
      ]
    },
    {
      "cell_type": "code",
      "metadata": {
        "colab": {
          "base_uri": "https://localhost:8080/"
        },
        "id": "Yx9PjedaRo-I",
        "outputId": "8ae7a616-3459-497f-87f8-90d3d33ef336"
      },
      "source": [
        "for i in range(row):  \n",
        "    for j in range(column):\n",
        "        if a[i][j]%2==1:\n",
        "            print('@',end=' ')\n",
        "        else:\n",
        "            print(a[i][j],end=' ')\n",
        "    print()     "
      ],
      "execution_count": 8,
      "outputs": [
        {
          "output_type": "stream",
          "name": "stdout",
          "text": [
            "@ 4 4 4 @ 8 0 @ 2 0 \n",
            "0 @ @ @ 2 2 @ 8 @ @ \n",
            "2 2 6 @ 8 8 @ 8 0 @ \n",
            "@ 4 8 @ 4 8 @ 6 0 @ \n",
            "8 @ 8 0 @ @ @ @ @ @ \n",
            "0 @ @ 0 2 @ 6 0 2 @ \n",
            "4 6 8 4 @ 2 @ 2 @ @ \n",
            "8 6 6 @ 2 @ @ 2 4 @ \n",
            "2 @ 2 8 @ @ 4 @ @ 6 \n",
            "0 8 4 2 4 @ 2 @ 8 2 \n"
          ]
        }
      ]
    },
    {
      "cell_type": "markdown",
      "metadata": {
        "id": "TCOjB-LJhena"
      },
      "source": [
        "# 3.Calculate and Print the total of each row like the following (use \"*\" to separate the total from the numbers):"
      ]
    },
    {
      "cell_type": "code",
      "metadata": {
        "colab": {
          "base_uri": "https://localhost:8080/"
        },
        "id": "gv2qbCkgRzK6",
        "outputId": "8d5816b9-7a6e-4d50-e466-5cfa4888b980"
      },
      "source": [
        "for i in range(row):\n",
        "  total = 0\n",
        "  for j in range(column):\n",
        "    y = a[i][j]\n",
        "    total = total + y\n",
        "    print(y, end=' ')\n",
        "  print('* ' + str(total))"
      ],
      "execution_count": 9,
      "outputs": [
        {
          "output_type": "stream",
          "name": "stdout",
          "text": [
            "5 4 4 4 7 8 0 3 2 0 * 37\n",
            "0 5 7 7 2 2 9 8 5 9 * 54\n",
            "2 2 6 9 8 8 3 8 0 1 * 47\n",
            "5 4 8 7 4 8 1 6 0 7 * 50\n",
            "8 1 8 0 7 5 5 1 5 7 * 47\n",
            "0 1 9 0 2 3 6 0 2 3 * 26\n",
            "4 6 8 4 5 2 5 2 5 5 * 46\n",
            "8 6 6 3 2 5 3 2 4 9 * 48\n",
            "2 3 2 8 9 7 4 7 5 6 * 53\n",
            "0 8 4 2 4 9 2 5 8 2 * 44\n"
          ]
        }
      ]
    },
    {
      "cell_type": "markdown",
      "metadata": {
        "id": "hD6xiwX3hjPF"
      },
      "source": [
        "# 4.Optional: Surround the matrix with asterisks (*) like the following:"
      ]
    },
    {
      "cell_type": "code",
      "metadata": {
        "colab": {
          "base_uri": "https://localhost:8080/"
        },
        "id": "S4CJUP8ER3mw",
        "outputId": "34d7155d-a0b3-4638-c69c-e913c114a081"
      },
      "source": [
        "print(\"**********************\")\n",
        "for i in range(row):\n",
        "    print('*',end=' ')\n",
        "    for j in range(column):\n",
        "        print(a[i][j], end = ' ')\n",
        "    print('*',end=\" \")\n",
        "    print()\n",
        "print(\"*********************\")"
      ],
      "execution_count": 10,
      "outputs": [
        {
          "output_type": "stream",
          "name": "stdout",
          "text": [
            "**********************\n",
            "* 5 4 4 4 7 8 0 3 2 0 * \n",
            "* 0 5 7 7 2 2 9 8 5 9 * \n",
            "* 2 2 6 9 8 8 3 8 0 1 * \n",
            "* 5 4 8 7 4 8 1 6 0 7 * \n",
            "* 8 1 8 0 7 5 5 1 5 7 * \n",
            "* 0 1 9 0 2 3 6 0 2 3 * \n",
            "* 4 6 8 4 5 2 5 2 5 5 * \n",
            "* 8 6 6 3 2 5 3 2 4 9 * \n",
            "* 2 3 2 8 9 7 4 7 5 6 * \n",
            "* 0 8 4 2 4 9 2 5 8 2 * \n",
            "*********************\n"
          ]
        }
      ]
    }
  ]
}