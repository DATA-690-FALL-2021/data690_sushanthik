{
  "nbformat": 4,
  "nbformat_minor": 0,
  "metadata": {
    "colab": {
      "name": "assignment_03.ipynb",
      "provenance": [],
      "authorship_tag": "ABX9TyP/legkodysLP3504Q3guni",
      "include_colab_link": true
    },
    "kernelspec": {
      "name": "python3",
      "display_name": "Python 3"
    },
    "language_info": {
      "name": "python"
    }
  },
  "cells": [
    {
      "cell_type": "markdown",
      "metadata": {
        "id": "view-in-github",
        "colab_type": "text"
      },
      "source": [
        "<a href=\"https://colab.research.google.com/github/SushanthikPoreddy/data690_sushanthik/blob/main/assignment_03/assignment_03.ipynb\" target=\"_parent\"><img src=\"https://colab.research.google.com/assets/colab-badge.svg\" alt=\"Open In Colab\"/></a>"
      ]
    },
    {
      "cell_type": "markdown",
      "metadata": {
        "id": "HYYB0CHfBWhL"
      },
      "source": [
        "# Assignment 03\n",
        "\n",
        "- Student: Sushanthik Reddy\n",
        "- Student ID: TY99095\n"
      ]
    },
    {
      "cell_type": "markdown",
      "metadata": {
        "id": "E5oG1w-_g4U8"
      },
      "source": [
        "# 1.Print them in a 10 by 10 matrix neatly arranged like the following (one space between each number):"
      ]
    },
    {
      "cell_type": "code",
      "metadata": {
        "colab": {
          "base_uri": "https://localhost:8080/"
        },
        "id": "y4tCXulCBiB9",
        "outputId": "417caae8-a18a-4673-9b5d-0eb88ace44b7"
      },
      "source": [
        "import random\n",
        "row = int(input(\"Enter the number of rows:\")) \n",
        "column = int(input(\"Enter the number of columns:\")) \n",
        "a=[]\n",
        "for i in range(row):\n",
        "    b=[]\n",
        "    for j in range(column):\n",
        "        \n",
        "        y=random.randrange(10)\n",
        "        b.append(y)\n",
        "    a.append(b)\n",
        "for i in range(row):  \n",
        "    for j in range(column):\n",
        "        print(a[i][j],end=' ')\n",
        "    print()\n",
        "    "
      ],
      "execution_count": 10,
      "outputs": [
        {
          "output_type": "stream",
          "name": "stdout",
          "text": [
            "Enter the number of rows:10\n",
            "Enter the number of columns:10\n",
            "5 8 2 4 0 5 2 7 1 9 \n",
            "7 0 9 9 5 6 6 1 1 7 \n",
            "3 9 2 1 5 5 1 2 9 1 \n",
            "8 2 0 6 9 3 1 8 2 4 \n",
            "1 2 3 4 7 8 9 6 2 4 \n",
            "4 8 6 2 7 6 7 9 7 3 \n",
            "1 4 7 5 1 2 6 6 0 3 \n",
            "2 9 1 3 3 5 2 8 6 2 \n",
            "8 8 6 0 2 8 2 1 8 0 \n",
            "2 1 8 0 3 5 9 9 1 7 \n"
          ]
        }
      ]
    },
    {
      "cell_type": "markdown",
      "metadata": {
        "id": "lyXwn8oxhZHR"
      },
      "source": [
        "# 2.If the random number is an odd number, print \"@\" instead. like the following:"
      ]
    },
    {
      "cell_type": "code",
      "metadata": {
        "colab": {
          "base_uri": "https://localhost:8080/"
        },
        "id": "Yx9PjedaRo-I",
        "outputId": "429479b4-05ee-4570-a948-b49d9659ac1c"
      },
      "source": [
        "for i in range(row):  \n",
        "    for j in range(column):\n",
        "        if a[i][j]%2==1:\n",
        "            print('@',end=' ')\n",
        "        else:\n",
        "            print(a[i][j],end=' ')\n",
        "    print()     "
      ],
      "execution_count": 12,
      "outputs": [
        {
          "output_type": "stream",
          "name": "stdout",
          "text": [
            "@ 8 2 4 0 @ 2 @ @ @ \n",
            "@ 0 @ @ @ 6 6 @ @ @ \n",
            "@ @ 2 @ @ @ @ 2 @ @ \n",
            "8 2 0 6 @ @ @ 8 2 4 \n",
            "@ 2 @ 4 @ 8 @ 6 2 4 \n",
            "4 8 6 2 @ 6 @ @ @ @ \n",
            "@ 4 @ @ @ 2 6 6 0 @ \n",
            "2 @ @ @ @ @ 2 8 6 2 \n",
            "8 8 6 0 2 8 2 @ 8 0 \n",
            "2 @ 8 0 @ @ @ @ @ @ \n"
          ]
        }
      ]
    },
    {
      "cell_type": "markdown",
      "metadata": {
        "id": "TCOjB-LJhena"
      },
      "source": [
        "# 3.Calculate and Print the total of each row like the following (use \"*\" to separate the total from the numbers):"
      ]
    },
    {
      "cell_type": "code",
      "metadata": {
        "colab": {
          "base_uri": "https://localhost:8080/"
        },
        "id": "gv2qbCkgRzK6",
        "outputId": "f5831b2b-27a7-42d8-c9dc-83be2291ad87"
      },
      "source": [
        "for i in range(row):\n",
        "  total = 0\n",
        "  for j in range(column):\n",
        "    y = a[i][j]\n",
        "    total = total + y\n",
        "    print(y, end=' ')\n",
        "  print('* ' + str(total))"
      ],
      "execution_count": 13,
      "outputs": [
        {
          "output_type": "stream",
          "name": "stdout",
          "text": [
            "5 8 2 4 0 5 2 7 1 9 * 43\n",
            "7 0 9 9 5 6 6 1 1 7 * 51\n",
            "3 9 2 1 5 5 1 2 9 1 * 38\n",
            "8 2 0 6 9 3 1 8 2 4 * 43\n",
            "1 2 3 4 7 8 9 6 2 4 * 46\n",
            "4 8 6 2 7 6 7 9 7 3 * 59\n",
            "1 4 7 5 1 2 6 6 0 3 * 35\n",
            "2 9 1 3 3 5 2 8 6 2 * 41\n",
            "8 8 6 0 2 8 2 1 8 0 * 43\n",
            "2 1 8 0 3 5 9 9 1 7 * 45\n"
          ]
        }
      ]
    },
    {
      "cell_type": "markdown",
      "metadata": {
        "id": "hD6xiwX3hjPF"
      },
      "source": [
        "# 4.Optional: Surround the matrix with asterisks (*) like the following:"
      ]
    },
    {
      "cell_type": "code",
      "metadata": {
        "colab": {
          "base_uri": "https://localhost:8080/"
        },
        "id": "S4CJUP8ER3mw",
        "outputId": "c80631aa-5bd2-40ce-c3c8-8cead07c02cb"
      },
      "source": [
        "print(\"***********************\")\n",
        "for i in range(row):\n",
        "    print('*',end=' ')\n",
        "    for j in range(column):\n",
        "        print(a[i][j], end = ' ')\n",
        "    print('*')\n",
        "    print()\n",
        "print(\"***********************\")"
      ],
      "execution_count": 18,
      "outputs": [
        {
          "output_type": "stream",
          "name": "stdout",
          "text": [
            "***********************\n",
            "* 5 8 2 4 0 5 2 7 1 9 *\n",
            "\n",
            "* 7 0 9 9 5 6 6 1 1 7 *\n",
            "\n",
            "* 3 9 2 1 5 5 1 2 9 1 *\n",
            "\n",
            "* 8 2 0 6 9 3 1 8 2 4 *\n",
            "\n",
            "* 1 2 3 4 7 8 9 6 2 4 *\n",
            "\n",
            "* 4 8 6 2 7 6 7 9 7 3 *\n",
            "\n",
            "* 1 4 7 5 1 2 6 6 0 3 *\n",
            "\n",
            "* 2 9 1 3 3 5 2 8 6 2 *\n",
            "\n",
            "* 8 8 6 0 2 8 2 1 8 0 *\n",
            "\n",
            "* 2 1 8 0 3 5 9 9 1 7 *\n",
            "\n",
            "***********************\n"
          ]
        }
      ]
    }
  ]
}