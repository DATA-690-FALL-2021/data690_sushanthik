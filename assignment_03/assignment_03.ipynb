{
  "nbformat": 4,
  "nbformat_minor": 0,
  "metadata": {
    "colab": {
      "name": "assignment_03.ipynb",
      "provenance": [],
      "authorship_tag": "ABX9TyOsAogypMqUlEKIGdvVQ8aj",
      "include_colab_link": true
    },
    "kernelspec": {
      "name": "python3",
      "display_name": "Python 3"
    },
    "language_info": {
      "name": "python"
    }
  },
  "cells": [
    {
      "cell_type": "markdown",
      "metadata": {
        "id": "view-in-github",
        "colab_type": "text"
      },
      "source": [
        "<a href=\"https://colab.research.google.com/github/SushanthikPoreddy/data690_sushanthik/blob/main/assignment_03/assignment_03.ipynb\" target=\"_parent\"><img src=\"https://colab.research.google.com/assets/colab-badge.svg\" alt=\"Open In Colab\"/></a>"
      ]
    },
    {
      "cell_type": "markdown",
      "metadata": {
        "id": "HYYB0CHfBWhL"
      },
      "source": [
        "# Assignment 03\n",
        "\n",
        "- Student: Sushanthik Reddy\n",
        "- Student ID: TY99095\n"
      ]
    },
    {
      "cell_type": "code",
      "metadata": {
        "colab": {
          "base_uri": "https://localhost:8080/"
        },
        "id": "y4tCXulCBiB9",
        "outputId": "17d1e2bc-bf95-4f6a-fd37-acb4e2bdc6db"
      },
      "source": [
        "import random\n",
        "\n",
        "row = int(input(\"Enter the number of rows:\")) \n",
        "column = int(input(\"Enter the number of columns:\")) \n",
        "\n",
        "matrix = []\n",
        "\n",
        "for i in range(0,10):\n",
        "    a=[]\n",
        "    for i in range(10):\n",
        "        y=random.randrange(10)\n",
        "        a.append(y)\n",
        "    matrix.append(a)    \n",
        "\n",
        "for i in range(row):   \n",
        "   for j in range(column):   \n",
        "      print(matrix[i][j], end = \" \")   \n",
        "   print()  \n",
        "    "
      ],
      "execution_count": null,
      "outputs": [
        {
          "output_type": "stream",
          "name": "stdout",
          "text": [
            "Enter the number of rows:10\n",
            "Enter the number of columns:10\n",
            "2 2 5 8 9 8 0 8 4 1 \n",
            "3 4 2 6 6 0 6 7 6 7 \n",
            "2 0 1 6 2 9 7 3 5 8 \n",
            "9 8 4 8 3 7 2 3 2 5 \n",
            "8 1 1 8 0 0 8 0 1 7 \n",
            "1 0 9 1 3 5 9 8 4 1 \n",
            "4 9 2 7 3 9 4 7 8 9 \n",
            "7 5 4 2 9 6 6 9 1 8 \n",
            "9 0 7 1 6 4 1 3 3 0 \n",
            "1 9 2 7 1 4 7 7 3 9 \n"
          ]
        }
      ]
    }
  ]
}