{
  "nbformat": 4,
  "nbformat_minor": 0,
  "metadata": {
    "colab": {
      "name": "in_session_02.ipynb",
      "provenance": [],
      "authorship_tag": "ABX9TyMDlPrU7TYtgvcUvLJJilCK",
      "include_colab_link": true
    },
    "kernelspec": {
      "name": "python3",
      "display_name": "Python 3"
    },
    "language_info": {
      "name": "python"
    }
  },
  "cells": [
    {
      "cell_type": "markdown",
      "metadata": {
        "id": "view-in-github",
        "colab_type": "text"
      },
      "source": [
        "<a href=\"https://colab.research.google.com/github/SushanthikPoreddy/data690_sushanthik/blob/main/assignment_02/in_session_02.ipynb\" target=\"_parent\"><img src=\"https://colab.research.google.com/assets/colab-badge.svg\" alt=\"Open In Colab\"/></a>"
      ]
    },
    {
      "cell_type": "markdown",
      "metadata": {
        "id": "e0XqUIk8-tON"
      },
      "source": [
        "# In-session Hands-on practices\n",
        "Sushanthik Reddy\n"
      ]
    },
    {
      "cell_type": "markdown",
      "metadata": {
        "id": "Vqf8AJFx_nN-"
      },
      "source": [
        "## 1.Simple types\n",
        "- int\n",
        "- float\n",
        "- str\n",
        "- boolean (True/False) [First letter must be in UPPER CASE]\n",
        "- Nan (not a number, null value)"
      ]
    },
    {
      "cell_type": "code",
      "metadata": {
        "colab": {
          "base_uri": "https://localhost:8080/"
        },
        "id": "pGWeleqx_j44",
        "outputId": "5d63df8c-821f-47f3-9146-be182fda0cdc"
      },
      "source": [
        "x = 5        #integer\n",
        "y = 0.5      #float\n",
        "s = \"Hello\"  #string\n",
        "print(x,y,s)"
      ],
      "execution_count": 1,
      "outputs": [
        {
          "output_type": "stream",
          "name": "stdout",
          "text": [
            "5 0.5 Hello\n"
          ]
        }
      ]
    },
    {
      "cell_type": "code",
      "metadata": {
        "colab": {
          "base_uri": "https://localhost:8080/"
        },
        "id": "JvFShlOzBE8M",
        "outputId": "9ad287ac-e008-4294-e421-4bb3ef5650ea"
      },
      "source": [
        "type(x)"
      ],
      "execution_count": 2,
      "outputs": [
        {
          "output_type": "execute_result",
          "data": {
            "text/plain": [
              "int"
            ]
          },
          "metadata": {},
          "execution_count": 2
        }
      ]
    },
    {
      "cell_type": "code",
      "metadata": {
        "colab": {
          "base_uri": "https://localhost:8080/"
        },
        "id": "bs2fTa7HBHMD",
        "outputId": "10d750b5-732b-4800-ce07-4f5758050136"
      },
      "source": [
        "type(s)"
      ],
      "execution_count": 3,
      "outputs": [
        {
          "output_type": "execute_result",
          "data": {
            "text/plain": [
              "str"
            ]
          },
          "metadata": {},
          "execution_count": 3
        }
      ]
    },
    {
      "cell_type": "markdown",
      "metadata": {
        "id": "r12uahm1BJFM"
      },
      "source": [
        "## 2. Collection Types\n"
      ]
    },
    {
      "cell_type": "code",
      "metadata": {
        "colab": {
          "base_uri": "https://localhost:8080/"
        },
        "id": "jEheH-CzBP-i",
        "outputId": "fb231423-41f3-4bfa-aedc-901dba40dc79"
      },
      "source": [
        "a_list=[1,4,7,10]\n",
        "print(a_list)"
      ],
      "execution_count": 4,
      "outputs": [
        {
          "output_type": "stream",
          "name": "stdout",
          "text": [
            "[1, 4, 7, 10]\n"
          ]
        }
      ]
    },
    {
      "cell_type": "code",
      "metadata": {
        "colab": {
          "base_uri": "https://localhost:8080/"
        },
        "id": "R8G6cLzVBZfY",
        "outputId": "2079372e-9015-488b-b57a-87f4df5a382e"
      },
      "source": [
        "type(a_list)"
      ],
      "execution_count": 5,
      "outputs": [
        {
          "output_type": "execute_result",
          "data": {
            "text/plain": [
              "list"
            ]
          },
          "metadata": {},
          "execution_count": 5
        }
      ]
    },
    {
      "cell_type": "markdown",
      "metadata": {
        "id": "80CbSAZ1COIw"
      },
      "source": [
        "## 3. Loop"
      ]
    },
    {
      "cell_type": "code",
      "metadata": {
        "colab": {
          "base_uri": "https://localhost:8080/"
        },
        "id": "UuN57-A6CRAb",
        "outputId": "6c5fdd2d-043f-4c3b-8529-a45cc6d7931a"
      },
      "source": [
        "for i in a_list:\n",
        "  print(\"integer\",i)"
      ],
      "execution_count": 9,
      "outputs": [
        {
          "output_type": "stream",
          "name": "stdout",
          "text": [
            "integer 1\n",
            "integer 4\n",
            "integer 7\n",
            "integer 10\n"
          ]
        }
      ]
    },
    {
      "cell_type": "markdown",
      "metadata": {
        "id": "VX3Ue0-WDh22"
      },
      "source": [
        "## 4. Conditions"
      ]
    },
    {
      "cell_type": "code",
      "metadata": {
        "colab": {
          "base_uri": "https://localhost:8080/"
        },
        "id": "XrzIQLJPEVTF",
        "outputId": "a4720a9c-656b-431e-ca6a-c43680879d8b"
      },
      "source": [
        "print(10 % 2)"
      ],
      "execution_count": 11,
      "outputs": [
        {
          "output_type": "stream",
          "name": "stdout",
          "text": [
            "0\n"
          ]
        }
      ]
    },
    {
      "cell_type": "code",
      "metadata": {
        "colab": {
          "base_uri": "https://localhost:8080/"
        },
        "id": "cnqdOGlZEYxq",
        "outputId": "438f684c-d4e6-44c4-b9d7-c98c5c3d2612"
      },
      "source": [
        "print ( 49 % 2)"
      ],
      "execution_count": 12,
      "outputs": [
        {
          "output_type": "stream",
          "name": "stdout",
          "text": [
            "1\n"
          ]
        }
      ]
    },
    {
      "cell_type": "code",
      "metadata": {
        "colab": {
          "base_uri": "https://localhost:8080/"
        },
        "id": "ts_5NagjDkq9",
        "outputId": "44976965-a769-47c3-ee14-66865c354bf5"
      },
      "source": [
        "for i in a_list:\n",
        "  if i % 2 != 0:\n",
        "    print (\"Odd number\", i)"
      ],
      "execution_count": 10,
      "outputs": [
        {
          "output_type": "stream",
          "name": "stdout",
          "text": [
            "Odd number 1\n",
            "Odd number 7\n"
          ]
        }
      ]
    },
    {
      "cell_type": "code",
      "metadata": {
        "colab": {
          "base_uri": "https://localhost:8080/"
        },
        "id": "ktaUa22nGoBm",
        "outputId": "512e4d5c-4a04-4550-bc72-410cabeb8674"
      },
      "source": [
        "for i in a_list:\n",
        "  if i % 2 == 0:\n",
        "    print(\"Even number\", i)"
      ],
      "execution_count": 13,
      "outputs": [
        {
          "output_type": "stream",
          "name": "stdout",
          "text": [
            "Even number 4\n",
            "Even number 10\n"
          ]
        }
      ]
    },
    {
      "cell_type": "markdown",
      "metadata": {
        "id": "xW-BwWB3LCs1"
      },
      "source": [
        "## 5.Python built-in Functions\n",
        "- range()\n",
        "- list()\n",
        "- int()\n",
        "- str()\n",
        "- len()  Gives the length of the user input"
      ]
    },
    {
      "cell_type": "code",
      "metadata": {
        "colab": {
          "base_uri": "https://localhost:8080/"
        },
        "id": "bDckUedNLhi0",
        "outputId": "fe6f7514-3daa-4f75-cce5-79ed0f311553"
      },
      "source": [
        "for i in range(10,21,2):       # start 10, stop =21 (upto 21, not including 21 and the difference between the numbers must be 2)\n",
        "  print(i)"
      ],
      "execution_count": 16,
      "outputs": [
        {
          "output_type": "stream",
          "name": "stdout",
          "text": [
            "10\n",
            "12\n",
            "14\n",
            "16\n",
            "18\n",
            "20\n"
          ]
        }
      ]
    },
    {
      "cell_type": "code",
      "metadata": {
        "colab": {
          "base_uri": "https://localhost:8080/"
        },
        "id": "mQdf1SCuKNEa",
        "outputId": "298501b1-bbbf-4533-ec05-cd13bb387313"
      },
      "source": [
        "for i in range(1,10):\n",
        "  if i%2==0:\n",
        "    print(i)"
      ],
      "execution_count": 22,
      "outputs": [
        {
          "output_type": "stream",
          "name": "stdout",
          "text": [
            "2\n",
            "4\n",
            "6\n",
            "8\n"
          ]
        }
      ]
    },
    {
      "cell_type": "code",
      "metadata": {
        "colab": {
          "base_uri": "https://localhost:8080/"
        },
        "id": "Be7PvPYWM22i",
        "outputId": "d0ee2a4b-a3ce-47aa-fb8f-bd25e4cd8fce"
      },
      "source": [
        "print(list(range(0,5)))"
      ],
      "execution_count": 23,
      "outputs": [
        {
          "output_type": "stream",
          "name": "stdout",
          "text": [
            "[0, 1, 2, 3, 4]\n"
          ]
        }
      ]
    },
    {
      "cell_type": "code",
      "metadata": {
        "colab": {
          "base_uri": "https://localhost:8080/"
        },
        "id": "t4ggri3zNKNi",
        "outputId": "4e487163-1c59-4021-8a43-e6fb3d665982"
      },
      "source": [
        "x=\"50\"\n",
        "type(x)"
      ],
      "execution_count": 24,
      "outputs": [
        {
          "output_type": "execute_result",
          "data": {
            "text/plain": [
              "str"
            ]
          },
          "metadata": {},
          "execution_count": 24
        }
      ]
    },
    {
      "cell_type": "code",
      "metadata": {
        "colab": {
          "base_uri": "https://localhost:8080/"
        },
        "id": "OQB4FC9wNPEu",
        "outputId": "153db12e-ec6c-45f5-97e8-85c6675081e4"
      },
      "source": [
        "y=int(x)\n",
        "type(y)"
      ],
      "execution_count": 25,
      "outputs": [
        {
          "output_type": "execute_result",
          "data": {
            "text/plain": [
              "int"
            ]
          },
          "metadata": {},
          "execution_count": 25
        }
      ]
    },
    {
      "cell_type": "code",
      "metadata": {
        "colab": {
          "base_uri": "https://localhost:8080/"
        },
        "id": "KLpzW9TcNSr6",
        "outputId": "8a01ac31-26f1-43b7-bec0-f71a1ca6c941"
      },
      "source": [
        "print(x,y)"
      ],
      "execution_count": 26,
      "outputs": [
        {
          "output_type": "stream",
          "name": "stdout",
          "text": [
            "50 50\n"
          ]
        }
      ]
    },
    {
      "cell_type": "markdown",
      "metadata": {
        "id": "E1_zstMcNgg4"
      },
      "source": [
        "## 6.Accepting user input"
      ]
    },
    {
      "cell_type": "code",
      "metadata": {
        "colab": {
          "base_uri": "https://localhost:8080/"
        },
        "id": "KRL3XIkQONbW",
        "outputId": "9f8b99d1-4c8d-4f3f-c0d8-7db686bc40d6"
      },
      "source": [
        "x= input(\"Enter a number:\")"
      ],
      "execution_count": 28,
      "outputs": [
        {
          "name": "stdout",
          "output_type": "stream",
          "text": [
            "Enter a number:10\n"
          ]
        }
      ]
    },
    {
      "cell_type": "code",
      "metadata": {
        "colab": {
          "base_uri": "https://localhost:8080/"
        },
        "id": "_rqxeIYxOTTr",
        "outputId": "412f256e-57b9-45a7-cbc1-c26d3358a8a6"
      },
      "source": [
        "print(x)\n",
        "type(x)"
      ],
      "execution_count": 29,
      "outputs": [
        {
          "output_type": "stream",
          "name": "stdout",
          "text": [
            "10\n"
          ]
        },
        {
          "output_type": "execute_result",
          "data": {
            "text/plain": [
              "str"
            ]
          },
          "metadata": {},
          "execution_count": 29
        }
      ]
    },
    {
      "cell_type": "code",
      "metadata": {
        "colab": {
          "base_uri": "https://localhost:8080/"
        },
        "id": "yDwkzsniOXz8",
        "outputId": "36a0d252-2d57-4efd-ec58-25e863c9a67c"
      },
      "source": [
        "x= input(\"Enter a number:\")"
      ],
      "execution_count": 30,
      "outputs": [
        {
          "name": "stdout",
          "output_type": "stream",
          "text": [
            "Enter a number:sushanthik\n"
          ]
        }
      ]
    },
    {
      "cell_type": "code",
      "metadata": {
        "colab": {
          "base_uri": "https://localhost:8080/"
        },
        "id": "AMvOewU9PW36",
        "outputId": "6b339a9b-eacf-44cf-9ba5-68863f2c875d"
      },
      "source": [
        "print(x)\n",
        "type(x)"
      ],
      "execution_count": 31,
      "outputs": [
        {
          "output_type": "stream",
          "name": "stdout",
          "text": [
            "sushanthik\n"
          ]
        },
        {
          "output_type": "execute_result",
          "data": {
            "text/plain": [
              "str"
            ]
          },
          "metadata": {},
          "execution_count": 31
        }
      ]
    },
    {
      "cell_type": "code",
      "metadata": {
        "colab": {
          "base_uri": "https://localhost:8080/"
        },
        "id": "Tnt8z_EANilM",
        "outputId": "a56a5ba5-7a35-4253-9253-ef4bca0cb727"
      },
      "source": [
        "x = int(input(\"Enter a number1:\"))\n",
        "y = int(input(\"Enter a number2:\"))\n",
        "print(x,y)"
      ],
      "execution_count": 27,
      "outputs": [
        {
          "output_type": "stream",
          "name": "stdout",
          "text": [
            "Enter a number1:10\n",
            "Enter a number2:20\n",
            "10 20\n"
          ]
        }
      ]
    },
    {
      "cell_type": "markdown",
      "metadata": {
        "id": "jUM1iFrJPdhf"
      },
      "source": [
        "## 7.Exception Handling"
      ]
    },
    {
      "cell_type": "code",
      "metadata": {
        "colab": {
          "base_uri": "https://localhost:8080/",
          "height": 195
        },
        "id": "2Ky1mnw0Ph8P",
        "outputId": "14c6bcc9-3f24-4536-d822-3bd1fc28259d"
      },
      "source": [
        "x=\"sushanthik\"\n",
        "y=int(x)\n",
        "print(y)"
      ],
      "execution_count": 33,
      "outputs": [
        {
          "output_type": "error",
          "ename": "ValueError",
          "evalue": "ignored",
          "traceback": [
            "\u001b[0;31m---------------------------------------------------------------------------\u001b[0m",
            "\u001b[0;31mValueError\u001b[0m                                Traceback (most recent call last)",
            "\u001b[0;32m<ipython-input-33-4e9c872fc599>\u001b[0m in \u001b[0;36m<module>\u001b[0;34m()\u001b[0m\n\u001b[1;32m      1\u001b[0m \u001b[0mx\u001b[0m\u001b[0;34m=\u001b[0m\u001b[0;34m\"sushanthik\"\u001b[0m\u001b[0;34m\u001b[0m\u001b[0;34m\u001b[0m\u001b[0m\n\u001b[0;32m----> 2\u001b[0;31m \u001b[0my\u001b[0m\u001b[0;34m=\u001b[0m\u001b[0mint\u001b[0m\u001b[0;34m(\u001b[0m\u001b[0mx\u001b[0m\u001b[0;34m)\u001b[0m\u001b[0;34m\u001b[0m\u001b[0;34m\u001b[0m\u001b[0m\n\u001b[0m\u001b[1;32m      3\u001b[0m \u001b[0mprint\u001b[0m\u001b[0;34m(\u001b[0m\u001b[0my\u001b[0m\u001b[0;34m)\u001b[0m\u001b[0;34m\u001b[0m\u001b[0;34m\u001b[0m\u001b[0m\n",
            "\u001b[0;31mValueError\u001b[0m: invalid literal for int() with base 10: 'sushanthik'"
          ]
        }
      ]
    },
    {
      "cell_type": "code",
      "metadata": {
        "colab": {
          "base_uri": "https://localhost:8080/"
        },
        "id": "5job9OUqP1EE",
        "outputId": "522e9afc-f8b8-4586-a993-4297ae864c5c"
      },
      "source": [
        "x=\"10\"\n",
        "y=int(x)\n",
        "print(y)"
      ],
      "execution_count": 34,
      "outputs": [
        {
          "output_type": "stream",
          "name": "stdout",
          "text": [
            "10\n"
          ]
        }
      ]
    },
    {
      "cell_type": "code",
      "metadata": {
        "colab": {
          "base_uri": "https://localhost:8080/"
        },
        "id": "B4JfTvB2QBbW",
        "outputId": "68dc3eb2-652a-42b6-e03c-5abf74552776"
      },
      "source": [
        "x= input(\"Enter a integer:\")\n",
        "try:\n",
        "  y=int(x)\n",
        "  print(\"Got integer\", y)\n",
        "except:\n",
        "  print(\"Cannot convert string to integer\")"
      ],
      "execution_count": 36,
      "outputs": [
        {
          "output_type": "stream",
          "name": "stdout",
          "text": [
            "Enter a integer:sushanthik\n",
            "Cannot convert string to integer\n"
          ]
        }
      ]
    },
    {
      "cell_type": "markdown",
      "metadata": {
        "id": "N6_9PfN3RFVF"
      },
      "source": [
        "## 8.Infinite Loop"
      ]
    },
    {
      "cell_type": "code",
      "metadata": {
        "colab": {
          "base_uri": "https://localhost:8080/"
        },
        "id": "tETMimfsRJmN",
        "outputId": "f62d2ed9-8d38-428a-b01c-fab9609c7117"
      },
      "source": [
        "while True:\n",
        "  x=input(\"Enter a integer:\")\n",
        "  try:\n",
        "    y=int(x)\n",
        "    print(\"Got integer:\",y)\n",
        "    break\n",
        "  except:\n",
        "    print(\"Cannot convert string to integer\")  "
      ],
      "execution_count": 40,
      "outputs": [
        {
          "output_type": "stream",
          "name": "stdout",
          "text": [
            "Enter a integer:sushanthik\n",
            "Cannot convert string to integer\n",
            "Enter a integer:-12\n",
            "Got integer: -12\n"
          ]
        }
      ]
    },
    {
      "cell_type": "code",
      "metadata": {
        "colab": {
          "base_uri": "https://localhost:8080/"
        },
        "id": "LUCIRPbTXhaU",
        "outputId": "8635d703-4cc2-40d1-9cc0-2cf07edb9810"
      },
      "source": [
        "the_list=[]\n",
        "for i in range(0,3):\n",
        "  while True:\n",
        "    x=input(\"Enter a integer:\")\n",
        "    try:\n",
        "      y=int(x)\n",
        "      the_list.append(y)\n",
        "      print(\"Got integer:\",y)\n",
        "      break\n",
        "    except:\n",
        "      print(\"Cannot convert string to integer\")\n",
        "print(\"you entered:\", the_list)\n",
        "\n",
        "  "
      ],
      "execution_count": 47,
      "outputs": [
        {
          "output_type": "stream",
          "name": "stdout",
          "text": [
            "Enter a integer:10\n",
            "Got integer: 10\n",
            "Enter a integer:20\n",
            "Got integer: 20\n",
            "Enter a integer:30\n",
            "Got integer: 30\n",
            "you entered: [10, 20, 30]\n"
          ]
        }
      ]
    },
    {
      "cell_type": "code",
      "metadata": {
        "colab": {
          "base_uri": "https://localhost:8080/"
        },
        "id": "N5HqksrPY11M",
        "outputId": "9617a4a8-4f55-4b21-90e5-7a912313ad0e"
      },
      "source": [
        "total=0\n",
        "for i in the_list:\n",
        "  total +=i\n",
        "print(\"total =\",total)  "
      ],
      "execution_count": 48,
      "outputs": [
        {
          "output_type": "stream",
          "name": "stdout",
          "text": [
            "total = 60\n"
          ]
        }
      ]
    },
    {
      "cell_type": "code",
      "metadata": {
        "colab": {
          "base_uri": "https://localhost:8080/"
        },
        "id": "yhp859lRZCwQ",
        "outputId": "736e8e53-476b-4e8a-9790-885207b0c401"
      },
      "source": [
        "mean=total/len(the_list)\n",
        "print(mean)"
      ],
      "execution_count": 49,
      "outputs": [
        {
          "output_type": "stream",
          "name": "stdout",
          "text": [
            "20.0\n"
          ]
        }
      ]
    }
  ]
}