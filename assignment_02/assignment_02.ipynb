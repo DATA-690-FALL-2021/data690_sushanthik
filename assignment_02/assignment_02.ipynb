{
  "nbformat": 4,
  "nbformat_minor": 0,
  "metadata": {
    "colab": {
      "name": "assignment_02.ipynb",
      "provenance": [],
      "authorship_tag": "ABX9TyMVNtHvu0MSAW6ypMVQer12",
      "include_colab_link": true
    },
    "kernelspec": {
      "name": "python3",
      "display_name": "Python 3"
    },
    "language_info": {
      "name": "python"
    }
  },
  "cells": [
    {
      "cell_type": "markdown",
      "metadata": {
        "id": "view-in-github",
        "colab_type": "text"
      },
      "source": [
        "<a href=\"https://colab.research.google.com/github/SushanthikPoreddy/data690_sushanthik/blob/main/assignment_02/assignment_02.ipynb\" target=\"_parent\"><img src=\"https://colab.research.google.com/assets/colab-badge.svg\" alt=\"Open In Colab\"/></a>"
      ]
    },
    {
      "cell_type": "markdown",
      "metadata": {
        "id": "eOFDthrQIC_w"
      },
      "source": [
        "# Assignment 02 for DATA 690 FALL 2021\n",
        "- Instructor: Dr Jay Wang\n",
        "- Student: Sushanthik Reddy\n",
        "- Student ID: TY99095\n",
        "\n",
        "This contains the detailed notes and python code of Assignment 02.\n"
      ]
    },
    {
      "cell_type": "markdown",
      "metadata": {
        "id": "gUmRIoVtIzWN"
      },
      "source": [
        "## 1.Code to enter the 10 integer values and display them."
      ]
    },
    {
      "cell_type": "code",
      "metadata": {
        "colab": {
          "base_uri": "https://localhost:8080/"
        },
        "id": "UiVhR-4zyaEe",
        "outputId": "2a5a3e48-daac-4d48-cb54-27364cb0e8a7"
      },
      "source": [
        "# Create an empty list to store all the final entered values.\n",
        "list = []                      \n",
        "for i in range(0,10):\n",
        "  while True:\n",
        "    x= input(\"Enter a number:\")\n",
        "    try:\n",
        "      y=int(x)\n",
        "      list.append(y)              \n",
        "      print(\"Got integer:\", y)\n",
        "      break\n",
        "    except:  \n",
        "      print(\"Can not convert string to integer, Enter a new number:\")\n",
        "# write a print statment to print all the integer values that are entered into the list \n",
        "print(\"You entered:\", list) \n"
      ],
      "execution_count": 1,
      "outputs": [
        {
          "output_type": "stream",
          "name": "stdout",
          "text": [
            "Enter a number:1\n",
            "Got integer: 1\n",
            "Enter a number:2\n",
            "Got integer: 2\n",
            "Enter a number:3\n",
            "Got integer: 3\n",
            "Enter a number:4\n",
            "Got integer: 4\n",
            "Enter a number:sushanthik\n",
            "Can not convert string to integer, Enter a new number:\n",
            "Enter a number:5\n",
            "Got integer: 5\n",
            "Enter a number:6\n",
            "Got integer: 6\n",
            "Enter a number:7\n",
            "Got integer: 7\n",
            "Enter a number:8\n",
            "Got integer: 8\n",
            "Enter a number:9\n",
            "Got integer: 9\n",
            "Enter a number:10\n",
            "Got integer: 10\n",
            "You entered: [1, 2, 3, 4, 5, 6, 7, 8, 9, 10]\n"
          ]
        }
      ]
    },
    {
      "cell_type": "markdown",
      "metadata": {
        "id": "ILD_QLJzJyzb"
      },
      "source": [
        "## 2. Code to find the Minimum value of the list."
      ]
    },
    {
      "cell_type": "code",
      "metadata": {
        "colab": {
          "base_uri": "https://localhost:8080/"
        },
        "id": "8CoZuO4JJJTb",
        "outputId": "e4631b65-f900-4a53-c098-c3f24467e3c9"
      },
      "source": [
        "# initially make the first integer value of the list as the minimum.\n",
        "min=list[0]\n",
        "for i in range(len(list)):\n",
        "    if list[i] < min:\n",
        "        min = list[i] \n",
        "print(\"The Minimum number among the list is: \",min)"
      ],
      "execution_count": 2,
      "outputs": [
        {
          "output_type": "stream",
          "name": "stdout",
          "text": [
            "The Minimum number among the list is:  1\n"
          ]
        }
      ]
    },
    {
      "cell_type": "markdown",
      "metadata": {
        "id": "2rgdzbC4LJJ3"
      },
      "source": [
        "## 3. Code to find the Maximum value of the list."
      ]
    },
    {
      "cell_type": "code",
      "metadata": {
        "colab": {
          "base_uri": "https://localhost:8080/"
        },
        "id": "deKND8o4J_J7",
        "outputId": "55442846-14de-4465-8e31-ebda79a34903"
      },
      "source": [
        "# initially make the first integer value of the list as the minimum.\n",
        "max=list[0]\n",
        "for i in range(len(list)):\n",
        "    if list[i] > max:\n",
        "        max = list[i] \n",
        "print(\"The Maximium number among the list is: \",max)"
      ],
      "execution_count": 3,
      "outputs": [
        {
          "output_type": "stream",
          "name": "stdout",
          "text": [
            "The Maximium number among the list is:  10\n"
          ]
        }
      ]
    },
    {
      "cell_type": "markdown",
      "metadata": {
        "id": "1eGW-dwkLM8H"
      },
      "source": [
        "## 3. Code to find the Range of the list."
      ]
    },
    {
      "cell_type": "code",
      "metadata": {
        "colab": {
          "base_uri": "https://localhost:8080/"
        },
        "id": "a9qxvvdAK28h",
        "outputId": "2ca9f2ba-0465-43de-bffe-7cca5d1f4b8d"
      },
      "source": [
        "# Range of the list will the difference between the maximum and minimum value of the list.\n",
        "Range= max-min\n",
        "print(\"Range is:\", Range)"
      ],
      "execution_count": 4,
      "outputs": [
        {
          "output_type": "stream",
          "name": "stdout",
          "text": [
            "Range is: 9\n"
          ]
        }
      ]
    },
    {
      "cell_type": "markdown",
      "metadata": {
        "id": "gGwbY722LRKC"
      },
      "source": [
        "## 4. Code to find the Mean value of the list."
      ]
    },
    {
      "cell_type": "code",
      "metadata": {
        "colab": {
          "base_uri": "https://localhost:8080/"
        },
        "id": "X0rhrQjLKt5t",
        "outputId": "81a21f2b-d51d-4a38-8c35-87e86871279f"
      },
      "source": [
        "total=0\n",
        "for i in list:\n",
        "  total +=i                      # same as total=total+i\n",
        "print(\"total =\",total)  \n",
        "mean=total/len(list)\n",
        "print(\"mean is:\", mean)"
      ],
      "execution_count": 5,
      "outputs": [
        {
          "output_type": "stream",
          "name": "stdout",
          "text": [
            "total = 55\n",
            "mean is: 5.5\n"
          ]
        }
      ]
    },
    {
      "cell_type": "markdown",
      "metadata": {
        "id": "eQ3UXFIhLU-m"
      },
      "source": [
        "## 5. Code to find the Variance value of the list."
      ]
    },
    {
      "cell_type": "code",
      "metadata": {
        "colab": {
          "base_uri": "https://localhost:8080/"
        },
        "id": "P3DMigRoKy2N",
        "outputId": "da0d2526-7012-4ef6-d782-6f74e62a4414"
      },
      "source": [
        "for i in range(len(list)):\n",
        "# write a code to find the difference between the each value of the list and the mean value  \n",
        "  list[i] = list[i] - mean \n",
        "for i in list:\n",
        "# Need to find out the square value of the each difference  \n",
        "  z=i**2\n",
        "sum=0  \n",
        "for i in list:\n",
        "# Find the sum of all the square values  \n",
        "  sum+=i*i;\n",
        "# Find the average of the square values\n",
        "variance = sum/len(list)\n",
        "print(\"variance is:\", variance) "
      ],
      "execution_count": 6,
      "outputs": [
        {
          "output_type": "stream",
          "name": "stdout",
          "text": [
            "variance is: 8.25\n"
          ]
        }
      ]
    },
    {
      "cell_type": "markdown",
      "metadata": {
        "id": "I8NflRVSLYsU"
      },
      "source": [
        "## 6. Code to find the Standard Deviation of the list."
      ]
    },
    {
      "cell_type": "code",
      "metadata": {
        "colab": {
          "base_uri": "https://localhost:8080/"
        },
        "id": "aRwoheozK0nP",
        "outputId": "191148e2-91e5-494f-a602-2067b70544ce"
      },
      "source": [
        "# Code to get the squareroot of the variance value.\n",
        "SD= variance ** 0.5\n",
        "print(\"Standard Deviation is:\",SD)"
      ],
      "execution_count": 7,
      "outputs": [
        {
          "output_type": "stream",
          "name": "stdout",
          "text": [
            "Standard Deviation is: 2.8722813232690143\n"
          ]
        }
      ]
    }
  ]
}