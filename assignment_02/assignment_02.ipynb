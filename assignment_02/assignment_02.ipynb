{
  "nbformat": 4,
  "nbformat_minor": 0,
  "metadata": {
    "colab": {
      "name": "assignment_02.ipynb",
      "provenance": [],
      "authorship_tag": "ABX9TyMVNtHvu0MSAW6ypMVQer12",
      "include_colab_link": true
    },
    "kernelspec": {
      "name": "python3",
      "display_name": "Python 3"
    },
    "language_info": {
      "name": "python"
    }
  },
  "cells": [
    {
      "cell_type": "markdown",
      "metadata": {
        "id": "view-in-github",
        "colab_type": "text"
      },
      "source": [
        "<a href=\"https://colab.research.google.com/github/SushanthikPoreddy/data690_sushanthik/blob/main/assignment_02/assignment_02.ipynb\" target=\"_parent\"><img src=\"https://colab.research.google.com/assets/colab-badge.svg\" alt=\"Open In Colab\"/></a>"
      ]
    },
    {
      "cell_type": "markdown",
      "metadata": {
        "id": "eOFDthrQIC_w"
      },
      "source": [
        "# Assignment 02 for DATA 690 FALL 2021\n",
        "- Instructor: Dr Jay Wang\n",
        "- Student: Sushanthik Reddy\n",
        "- Student ID: TY99095\n",
        "\n",
        "This contains the detailed notes and python code of Assignment 02.\n"
      ]
    },
    {
      "cell_type": "markdown",
      "metadata": {
        "id": "gUmRIoVtIzWN"
      },
      "source": [
        "## 1.Code to enter the 10 integer values and display them."
      ]
    },
    {
      "cell_type": "code",
      "metadata": {
        "colab": {
          "base_uri": "https://localhost:8080/"
        },
        "id": "UiVhR-4zyaEe",
        "outputId": "a3f96dbf-c9c1-4668-c736-454b58b1395d"
      },
      "source": [
        "# Create an empty list to store all the final entered values.\n",
        "list = []                      \n",
        "for i in range(0,10):\n",
        "  while True:\n",
        "    x= input(\"Enter a number:\")\n",
        "    try:\n",
        "      y=int(x)\n",
        "      list.append(y)              \n",
        "      print(\"Got integer:\", y)\n",
        "      break\n",
        "    except:  \n",
        "      print(\"Can not convert string to integer, Enter a new number:\")\n",
        "# write a print statment to print all the integer values that are entered into the list \n",
        "print(\"You entered:\", list) \n"
      ],
      "execution_count": 101,
      "outputs": [
        {
          "output_type": "stream",
          "name": "stdout",
          "text": [
            "Enter a number:10\n",
            "Got integer: 10\n",
            "Enter a number:20\n",
            "Got integer: 20\n",
            "Enter a number:30\n",
            "Got integer: 30\n",
            "Enter a number:40\n",
            "Got integer: 40\n",
            "Enter a number:50\n",
            "Got integer: 50\n",
            "Enter a number:60\n",
            "Got integer: 60\n",
            "Enter a number:70\n",
            "Got integer: 70\n",
            "Enter a number:80\n",
            "Got integer: 80\n",
            "Enter a number:90\n",
            "Got integer: 90\n",
            "Enter a number:100\n",
            "Got integer: 100\n",
            "You entered: [10, 20, 30, 40, 50, 60, 70, 80, 90, 100]\n"
          ]
        }
      ]
    },
    {
      "cell_type": "markdown",
      "metadata": {
        "id": "ILD_QLJzJyzb"
      },
      "source": [
        "## 2. Code to find the Minimum value of the list."
      ]
    },
    {
      "cell_type": "code",
      "metadata": {
        "colab": {
          "base_uri": "https://localhost:8080/"
        },
        "id": "8CoZuO4JJJTb",
        "outputId": "1841f3a7-cd18-476e-ed6c-9ad0ad25b568"
      },
      "source": [
        "# initially make the first integer value of the list as the minimum.\n",
        "min=list[0]\n",
        "for i in range(len(list)):\n",
        "    if list[i] < min:\n",
        "        min = list[i] \n",
        "print(\"The Minimum number among the list is: \",min)"
      ],
      "execution_count": 103,
      "outputs": [
        {
          "output_type": "stream",
          "name": "stdout",
          "text": [
            "The Minimum number among the list is:  10\n"
          ]
        }
      ]
    },
    {
      "cell_type": "markdown",
      "metadata": {
        "id": "2rgdzbC4LJJ3"
      },
      "source": [
        "## 3. Code to find the Maximum value of the list."
      ]
    },
    {
      "cell_type": "code",
      "metadata": {
        "colab": {
          "base_uri": "https://localhost:8080/"
        },
        "id": "deKND8o4J_J7",
        "outputId": "c91898ea-60eb-4cb5-d618-cd7e3d52373d"
      },
      "source": [
        "# initially make the first integer value of the list as the minimum.\n",
        "max=list[0]\n",
        "for i in range(len(list)):\n",
        "    if list[i] > max:\n",
        "        max = list[i] \n",
        "print(\"The Maximium number among the list is: \",max)"
      ],
      "execution_count": 104,
      "outputs": [
        {
          "output_type": "stream",
          "name": "stdout",
          "text": [
            "The Maximium number among the list is:  100\n"
          ]
        }
      ]
    },
    {
      "cell_type": "markdown",
      "metadata": {
        "id": "1eGW-dwkLM8H"
      },
      "source": [
        "## 3. Code to find the Range of the list."
      ]
    },
    {
      "cell_type": "code",
      "metadata": {
        "colab": {
          "base_uri": "https://localhost:8080/"
        },
        "id": "a9qxvvdAK28h",
        "outputId": "2f2f6f3e-9652-41f0-fa1e-a6cf0648bae5"
      },
      "source": [
        "# Range of the list will the difference between the maximum and minimum value of the list.\n",
        "Range= max-min\n",
        "print(\"Range is:\", Range)"
      ],
      "execution_count": 105,
      "outputs": [
        {
          "output_type": "stream",
          "name": "stdout",
          "text": [
            "Range is: 90\n"
          ]
        }
      ]
    },
    {
      "cell_type": "markdown",
      "metadata": {
        "id": "gGwbY722LRKC"
      },
      "source": [
        "## 4. Code to find the Mean value of the list."
      ]
    },
    {
      "cell_type": "code",
      "metadata": {
        "colab": {
          "base_uri": "https://localhost:8080/"
        },
        "id": "X0rhrQjLKt5t",
        "outputId": "08f3e3ef-206e-4153-c25e-4fbcf5d2f091"
      },
      "source": [
        "total=0\n",
        "for i in list:\n",
        "  total +=i                      # same as total=total+i\n",
        "print(\"total =\",total)  \n",
        "mean=total/len(list)\n",
        "print(\"mean is:\", mean)"
      ],
      "execution_count": 106,
      "outputs": [
        {
          "output_type": "stream",
          "name": "stdout",
          "text": [
            "total = 550\n",
            "mean is: 55.0\n"
          ]
        }
      ]
    },
    {
      "cell_type": "markdown",
      "metadata": {
        "id": "eQ3UXFIhLU-m"
      },
      "source": [
        "## 5. Code to find the Variance value of the list."
      ]
    },
    {
      "cell_type": "code",
      "metadata": {
        "colab": {
          "base_uri": "https://localhost:8080/"
        },
        "id": "P3DMigRoKy2N",
        "outputId": "22098475-04c4-43a0-ea30-66957ac1fc6f"
      },
      "source": [
        "for i in range(len(list)):\n",
        "# write a code to find the difference between the each value of the list and the mean value  \n",
        "  list[i] = list[i] - mean \n",
        "for i in list:\n",
        "# Need to find out the square value of the each difference  \n",
        "  z=i**2\n",
        "sum=0  \n",
        "for i in list:\n",
        "# Find the sum of all the square values  \n",
        "  sum+=i*i;\n",
        "# Find the average of the square values\n",
        "variance = sum/len(list)\n",
        "print(\"variance is:\", variance) "
      ],
      "execution_count": 107,
      "outputs": [
        {
          "output_type": "stream",
          "name": "stdout",
          "text": [
            "variance is: 825.0\n"
          ]
        }
      ]
    },
    {
      "cell_type": "markdown",
      "metadata": {
        "id": "I8NflRVSLYsU"
      },
      "source": [
        "## 6. Code to find the Standard Deviation of the list."
      ]
    },
    {
      "cell_type": "code",
      "metadata": {
        "colab": {
          "base_uri": "https://localhost:8080/"
        },
        "id": "aRwoheozK0nP",
        "outputId": "76aa77a7-5539-4042-8f3a-ab2d3c109615"
      },
      "source": [
        "# Code to get the squareroot of the variance value.\n",
        "SD= variance ** 0.5\n",
        "print(\"Standard Deviation is:\",SD)"
      ],
      "execution_count": 108,
      "outputs": [
        {
          "output_type": "stream",
          "name": "stdout",
          "text": [
            "Standard Deviation is: 28.722813232690143\n"
          ]
        }
      ]
    }
  ]
}