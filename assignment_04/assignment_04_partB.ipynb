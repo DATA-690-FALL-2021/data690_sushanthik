{
  "nbformat": 4,
  "nbformat_minor": 0,
  "metadata": {
    "colab": {
      "name": "assignment_04_partB.ipynb",
      "provenance": [],
      "authorship_tag": "ABX9TyM4m/EWpnYMFHswkRjlOM+E",
      "include_colab_link": true
    },
    "kernelspec": {
      "name": "python3",
      "display_name": "Python 3"
    },
    "language_info": {
      "name": "python"
    }
  },
  "cells": [
    {
      "cell_type": "markdown",
      "metadata": {
        "id": "view-in-github",
        "colab_type": "text"
      },
      "source": [
        "<a href=\"https://colab.research.google.com/github/SushanthikPoreddy/data690_sushanthik/blob/main/assignment_04/assignment_04_partB.ipynb\" target=\"_parent\"><img src=\"https://colab.research.google.com/assets/colab-badge.svg\" alt=\"Open In Colab\"/></a>"
      ]
    },
    {
      "cell_type": "markdown",
      "metadata": {
        "id": "BC2zBbM-dnzV"
      },
      "source": [
        "## 1.Use Pandas to read the file census_costs.txt file"
      ]
    },
    {
      "cell_type": "code",
      "metadata": {
        "id": "d-t6pzUlfrtK"
      },
      "source": [
        "import pandas as pd"
      ],
      "execution_count": 3,
      "outputs": []
    },
    {
      "cell_type": "code",
      "metadata": {
        "colab": {
          "base_uri": "https://localhost:8080/"
        },
        "id": "_Gn0W00of7Dh",
        "outputId": "eae60678-8be9-495c-d09a-addcc0f6fc63"
      },
      "source": [
        "df= pd.read_csv(\"/content/census_costs.txt\",sep=\"\\t\")\n",
        "df.head\n"
      ],
      "execution_count": 4,
      "outputs": [
        {
          "output_type": "execute_result",
          "data": {
            "text/plain": [
              "<bound method NDFrame.head of                                             Source: https://www.genealogybranches.com/censuscosts.html\n",
              "Census Year Total Population Census Cost                               Average Cost Per Person        \n",
              "1790        3,929,214        $44,377                                                1.13 cents        \n",
              "1800        5,308,483        $66,109                                                1.24 cents        \n",
              "1810        7,239,881        $178,445                                               2.46 cents        \n",
              "1820        9,633,822        $208,526                                               2.16 cents        \n",
              "1830        12,866,020       $378,545                                               2.94 cents        \n",
              "1840        17,069,458       $833,371                                               4.88 cents        \n",
              "1850        23,191,876       $1,423,351                                             6.14 cents        \n",
              "1860        31,443,321       $1,969,377                                             6.26 cents        \n",
              "1870        38,558,371       $3,421,198                                             8.87 cents        \n",
              "1880        50,155,783       $5,790,678                                            11.54 cents        \n",
              "1890        62,979,766       $11,547,127                                           18.33 cents        \n",
              "1900        76,303,387       $11,854,000                                           15.54 cents        \n",
              "1910        91,972,266       $15,968,000                                           17.07 cents        \n",
              "1920        105,710,620      $25,117,000                                           23.76 cents        \n",
              "1930        122,775,046      $40,156,000                                           32.71 cents        \n",
              "1940        131,669,275      $67,527,000                                           51.29 cents        \n",
              "1950        151,325,798      $91,462,000                                           60.44 cents        \n",
              "1960        179,323,175      $127,934,000                                          71.34 cents        \n",
              "1970        203,302,031      $247,653,000                                                $1.22        \n",
              "1980        226,542,199      $1,078,488,000                                              $4.76        \n",
              "1990        248,718,301      $2,492,830,000                                             $10.02        \n",
              "2000        281,421,906      $4.5 Billion                                               $15.99        \n",
              "2010*       308,745,538      $13 Billion                                                $42.11        >"
            ]
          },
          "metadata": {},
          "execution_count": 4
        }
      ]
    },
    {
      "cell_type": "markdown",
      "metadata": {
        "id": "-Km_owJPdsTM"
      },
      "source": [
        "## 3.Display first 10, last 10, and random 10 rows"
      ]
    },
    {
      "cell_type": "code",
      "metadata": {
        "colab": {
          "base_uri": "https://localhost:8080/",
          "height": 390
        },
        "id": "UWTXQ4vQg9fn",
        "outputId": "bcff4926-4470-4c32-f804-9e5e67e10af1"
      },
      "source": [
        "df.head(10)"
      ],
      "execution_count": 5,
      "outputs": [
        {
          "output_type": "execute_result",
          "data": {
            "text/html": [
              "<div>\n",
              "<style scoped>\n",
              "    .dataframe tbody tr th:only-of-type {\n",
              "        vertical-align: middle;\n",
              "    }\n",
              "\n",
              "    .dataframe tbody tr th {\n",
              "        vertical-align: top;\n",
              "    }\n",
              "\n",
              "    .dataframe thead th {\n",
              "        text-align: right;\n",
              "    }\n",
              "</style>\n",
              "<table border=\"1\" class=\"dataframe\">\n",
              "  <thead>\n",
              "    <tr style=\"text-align: right;\">\n",
              "      <th></th>\n",
              "      <th></th>\n",
              "      <th></th>\n",
              "      <th>Source: https://www.genealogybranches.com/censuscosts.html</th>\n",
              "    </tr>\n",
              "  </thead>\n",
              "  <tbody>\n",
              "    <tr>\n",
              "      <th>Census Year</th>\n",
              "      <th>Total Population</th>\n",
              "      <th>Census Cost</th>\n",
              "      <td>Average Cost Per Person</td>\n",
              "    </tr>\n",
              "    <tr>\n",
              "      <th>1790</th>\n",
              "      <th>3,929,214</th>\n",
              "      <th>$44,377</th>\n",
              "      <td>1.13 cents</td>\n",
              "    </tr>\n",
              "    <tr>\n",
              "      <th>1800</th>\n",
              "      <th>5,308,483</th>\n",
              "      <th>$66,109</th>\n",
              "      <td>1.24 cents</td>\n",
              "    </tr>\n",
              "    <tr>\n",
              "      <th>1810</th>\n",
              "      <th>7,239,881</th>\n",
              "      <th>$178,445</th>\n",
              "      <td>2.46 cents</td>\n",
              "    </tr>\n",
              "    <tr>\n",
              "      <th>1820</th>\n",
              "      <th>9,633,822</th>\n",
              "      <th>$208,526</th>\n",
              "      <td>2.16 cents</td>\n",
              "    </tr>\n",
              "    <tr>\n",
              "      <th>1830</th>\n",
              "      <th>12,866,020</th>\n",
              "      <th>$378,545</th>\n",
              "      <td>2.94 cents</td>\n",
              "    </tr>\n",
              "    <tr>\n",
              "      <th>1840</th>\n",
              "      <th>17,069,458</th>\n",
              "      <th>$833,371</th>\n",
              "      <td>4.88 cents</td>\n",
              "    </tr>\n",
              "    <tr>\n",
              "      <th>1850</th>\n",
              "      <th>23,191,876</th>\n",
              "      <th>$1,423,351</th>\n",
              "      <td>6.14 cents</td>\n",
              "    </tr>\n",
              "    <tr>\n",
              "      <th>1860</th>\n",
              "      <th>31,443,321</th>\n",
              "      <th>$1,969,377</th>\n",
              "      <td>6.26 cents</td>\n",
              "    </tr>\n",
              "    <tr>\n",
              "      <th>1870</th>\n",
              "      <th>38,558,371</th>\n",
              "      <th>$3,421,198</th>\n",
              "      <td>8.87 cents</td>\n",
              "    </tr>\n",
              "  </tbody>\n",
              "</table>\n",
              "</div>"
            ],
            "text/plain": [
              "                                         Source: https://www.genealogybranches.com/censuscosts.html\n",
              "Census Year Total Population Census Cost                            Average Cost Per Person        \n",
              "1790        3,929,214        $44,377                                             1.13 cents        \n",
              "1800        5,308,483        $66,109                                             1.24 cents        \n",
              "1810        7,239,881        $178,445                                            2.46 cents        \n",
              "1820        9,633,822        $208,526                                            2.16 cents        \n",
              "1830        12,866,020       $378,545                                            2.94 cents        \n",
              "1840        17,069,458       $833,371                                            4.88 cents        \n",
              "1850        23,191,876       $1,423,351                                          6.14 cents        \n",
              "1860        31,443,321       $1,969,377                                          6.26 cents        \n",
              "1870        38,558,371       $3,421,198                                          8.87 cents        "
            ]
          },
          "metadata": {},
          "execution_count": 5
        }
      ]
    },
    {
      "cell_type": "code",
      "metadata": {
        "colab": {
          "base_uri": "https://localhost:8080/",
          "height": 374
        },
        "id": "N37eB_iKgfFy",
        "outputId": "7795e5f3-da43-4bb0-9f4c-697d938333d5"
      },
      "source": [
        "df.tail(10)"
      ],
      "execution_count": 6,
      "outputs": [
        {
          "output_type": "execute_result",
          "data": {
            "text/html": [
              "<div>\n",
              "<style scoped>\n",
              "    .dataframe tbody tr th:only-of-type {\n",
              "        vertical-align: middle;\n",
              "    }\n",
              "\n",
              "    .dataframe tbody tr th {\n",
              "        vertical-align: top;\n",
              "    }\n",
              "\n",
              "    .dataframe thead th {\n",
              "        text-align: right;\n",
              "    }\n",
              "</style>\n",
              "<table border=\"1\" class=\"dataframe\">\n",
              "  <thead>\n",
              "    <tr style=\"text-align: right;\">\n",
              "      <th></th>\n",
              "      <th></th>\n",
              "      <th></th>\n",
              "      <th>Source: https://www.genealogybranches.com/censuscosts.html</th>\n",
              "    </tr>\n",
              "  </thead>\n",
              "  <tbody>\n",
              "    <tr>\n",
              "      <th>1920</th>\n",
              "      <th>105,710,620</th>\n",
              "      <th>$25,117,000</th>\n",
              "      <td>23.76 cents</td>\n",
              "    </tr>\n",
              "    <tr>\n",
              "      <th>1930</th>\n",
              "      <th>122,775,046</th>\n",
              "      <th>$40,156,000</th>\n",
              "      <td>32.71 cents</td>\n",
              "    </tr>\n",
              "    <tr>\n",
              "      <th>1940</th>\n",
              "      <th>131,669,275</th>\n",
              "      <th>$67,527,000</th>\n",
              "      <td>51.29 cents</td>\n",
              "    </tr>\n",
              "    <tr>\n",
              "      <th>1950</th>\n",
              "      <th>151,325,798</th>\n",
              "      <th>$91,462,000</th>\n",
              "      <td>60.44 cents</td>\n",
              "    </tr>\n",
              "    <tr>\n",
              "      <th>1960</th>\n",
              "      <th>179,323,175</th>\n",
              "      <th>$127,934,000</th>\n",
              "      <td>71.34 cents</td>\n",
              "    </tr>\n",
              "    <tr>\n",
              "      <th>1970</th>\n",
              "      <th>203,302,031</th>\n",
              "      <th>$247,653,000</th>\n",
              "      <td>$1.22</td>\n",
              "    </tr>\n",
              "    <tr>\n",
              "      <th>1980</th>\n",
              "      <th>226,542,199</th>\n",
              "      <th>$1,078,488,000</th>\n",
              "      <td>$4.76</td>\n",
              "    </tr>\n",
              "    <tr>\n",
              "      <th>1990</th>\n",
              "      <th>248,718,301</th>\n",
              "      <th>$2,492,830,000</th>\n",
              "      <td>$10.02</td>\n",
              "    </tr>\n",
              "    <tr>\n",
              "      <th>2000</th>\n",
              "      <th>281,421,906</th>\n",
              "      <th>$4.5 Billion</th>\n",
              "      <td>$15.99</td>\n",
              "    </tr>\n",
              "    <tr>\n",
              "      <th>2010*</th>\n",
              "      <th>308,745,538</th>\n",
              "      <th>$13 Billion</th>\n",
              "      <td>$42.11</td>\n",
              "    </tr>\n",
              "  </tbody>\n",
              "</table>\n",
              "</div>"
            ],
            "text/plain": [
              "                                 Source: https://www.genealogybranches.com/censuscosts.html\n",
              "1920  105,710,620 $25,117,000                                           23.76 cents        \n",
              "1930  122,775,046 $40,156,000                                           32.71 cents        \n",
              "1940  131,669,275 $67,527,000                                           51.29 cents        \n",
              "1950  151,325,798 $91,462,000                                           60.44 cents        \n",
              "1960  179,323,175 $127,934,000                                          71.34 cents        \n",
              "1970  203,302,031 $247,653,000                                                $1.22        \n",
              "1980  226,542,199 $1,078,488,000                                              $4.76        \n",
              "1990  248,718,301 $2,492,830,000                                             $10.02        \n",
              "2000  281,421,906 $4.5 Billion                                               $15.99        \n",
              "2010* 308,745,538 $13 Billion                                                $42.11        "
            ]
          },
          "metadata": {},
          "execution_count": 6
        }
      ]
    },
    {
      "cell_type": "code",
      "metadata": {
        "colab": {
          "base_uri": "https://localhost:8080/",
          "height": 390
        },
        "id": "GN2Je348ggVe",
        "outputId": "58d1f285-970c-4c96-9e86-b3f7f101cc9b"
      },
      "source": [
        "df.sample(10)"
      ],
      "execution_count": 7,
      "outputs": [
        {
          "output_type": "execute_result",
          "data": {
            "text/html": [
              "<div>\n",
              "<style scoped>\n",
              "    .dataframe tbody tr th:only-of-type {\n",
              "        vertical-align: middle;\n",
              "    }\n",
              "\n",
              "    .dataframe tbody tr th {\n",
              "        vertical-align: top;\n",
              "    }\n",
              "\n",
              "    .dataframe thead th {\n",
              "        text-align: right;\n",
              "    }\n",
              "</style>\n",
              "<table border=\"1\" class=\"dataframe\">\n",
              "  <thead>\n",
              "    <tr style=\"text-align: right;\">\n",
              "      <th></th>\n",
              "      <th></th>\n",
              "      <th></th>\n",
              "      <th>Source: https://www.genealogybranches.com/censuscosts.html</th>\n",
              "    </tr>\n",
              "  </thead>\n",
              "  <tbody>\n",
              "    <tr>\n",
              "      <th>2000</th>\n",
              "      <th>281,421,906</th>\n",
              "      <th>$4.5 Billion</th>\n",
              "      <td>$15.99</td>\n",
              "    </tr>\n",
              "    <tr>\n",
              "      <th>1920</th>\n",
              "      <th>105,710,620</th>\n",
              "      <th>$25,117,000</th>\n",
              "      <td>23.76 cents</td>\n",
              "    </tr>\n",
              "    <tr>\n",
              "      <th>1980</th>\n",
              "      <th>226,542,199</th>\n",
              "      <th>$1,078,488,000</th>\n",
              "      <td>$4.76</td>\n",
              "    </tr>\n",
              "    <tr>\n",
              "      <th>1810</th>\n",
              "      <th>7,239,881</th>\n",
              "      <th>$178,445</th>\n",
              "      <td>2.46 cents</td>\n",
              "    </tr>\n",
              "    <tr>\n",
              "      <th>1990</th>\n",
              "      <th>248,718,301</th>\n",
              "      <th>$2,492,830,000</th>\n",
              "      <td>$10.02</td>\n",
              "    </tr>\n",
              "    <tr>\n",
              "      <th>1900</th>\n",
              "      <th>76,303,387</th>\n",
              "      <th>$11,854,000</th>\n",
              "      <td>15.54 cents</td>\n",
              "    </tr>\n",
              "    <tr>\n",
              "      <th>Census Year</th>\n",
              "      <th>Total Population</th>\n",
              "      <th>Census Cost</th>\n",
              "      <td>Average Cost Per Person</td>\n",
              "    </tr>\n",
              "    <tr>\n",
              "      <th>1830</th>\n",
              "      <th>12,866,020</th>\n",
              "      <th>$378,545</th>\n",
              "      <td>2.94 cents</td>\n",
              "    </tr>\n",
              "    <tr>\n",
              "      <th>1840</th>\n",
              "      <th>17,069,458</th>\n",
              "      <th>$833,371</th>\n",
              "      <td>4.88 cents</td>\n",
              "    </tr>\n",
              "    <tr>\n",
              "      <th>1880</th>\n",
              "      <th>50,155,783</th>\n",
              "      <th>$5,790,678</th>\n",
              "      <td>11.54 cents</td>\n",
              "    </tr>\n",
              "  </tbody>\n",
              "</table>\n",
              "</div>"
            ],
            "text/plain": [
              "                                            Source: https://www.genealogybranches.com/censuscosts.html\n",
              "2000        281,421,906      $4.5 Billion                                               $15.99        \n",
              "1920        105,710,620      $25,117,000                                           23.76 cents        \n",
              "1980        226,542,199      $1,078,488,000                                              $4.76        \n",
              "1810        7,239,881        $178,445                                               2.46 cents        \n",
              "1990        248,718,301      $2,492,830,000                                             $10.02        \n",
              "1900        76,303,387       $11,854,000                                           15.54 cents        \n",
              "Census Year Total Population Census Cost                               Average Cost Per Person        \n",
              "1830        12,866,020       $378,545                                               2.94 cents        \n",
              "1840        17,069,458       $833,371                                               4.88 cents        \n",
              "1880        50,155,783       $5,790,678                                            11.54 cents        "
            ]
          },
          "metadata": {},
          "execution_count": 7
        }
      ]
    },
    {
      "cell_type": "markdown",
      "metadata": {
        "id": "dTOVZFGtd7_G"
      },
      "source": [
        "## 4.Find out the data types of all columns - use info() function"
      ]
    },
    {
      "cell_type": "code",
      "metadata": {
        "colab": {
          "base_uri": "https://localhost:8080/"
        },
        "id": "_eDjBrk9gqq4",
        "outputId": "e3b8bf84-5c5d-40a2-c9b6-6f3214ff67fe"
      },
      "source": [
        "df.info()"
      ],
      "execution_count": 8,
      "outputs": [
        {
          "output_type": "stream",
          "name": "stdout",
          "text": [
            "<class 'pandas.core.frame.DataFrame'>\n",
            "MultiIndex: 24 entries, ('Census Year', 'Total Population', 'Census Cost') to ('2010*', '308,745,538', '$13 Billion')\n",
            "Data columns (total 1 columns):\n",
            " #   Column                                                      Non-Null Count  Dtype \n",
            "---  ------                                                      --------------  ----- \n",
            " 0   Source: https://www.genealogybranches.com/censuscosts.html  24 non-null     object\n",
            "dtypes: object(1)\n",
            "memory usage: 2.7+ KB\n"
          ]
        }
      ]
    },
    {
      "cell_type": "code",
      "metadata": {
        "colab": {
          "base_uri": "https://localhost:8080/",
          "height": 172
        },
        "id": "RTT8p9D7hB_A",
        "outputId": "77608ac6-4d17-4a7d-b8e3-44b2c2309d23"
      },
      "source": [
        "df.describe()"
      ],
      "execution_count": 9,
      "outputs": [
        {
          "output_type": "execute_result",
          "data": {
            "text/html": [
              "<div>\n",
              "<style scoped>\n",
              "    .dataframe tbody tr th:only-of-type {\n",
              "        vertical-align: middle;\n",
              "    }\n",
              "\n",
              "    .dataframe tbody tr th {\n",
              "        vertical-align: top;\n",
              "    }\n",
              "\n",
              "    .dataframe thead th {\n",
              "        text-align: right;\n",
              "    }\n",
              "</style>\n",
              "<table border=\"1\" class=\"dataframe\">\n",
              "  <thead>\n",
              "    <tr style=\"text-align: right;\">\n",
              "      <th></th>\n",
              "      <th>Source: https://www.genealogybranches.com/censuscosts.html</th>\n",
              "    </tr>\n",
              "  </thead>\n",
              "  <tbody>\n",
              "    <tr>\n",
              "      <th>count</th>\n",
              "      <td>24</td>\n",
              "    </tr>\n",
              "    <tr>\n",
              "      <th>unique</th>\n",
              "      <td>24</td>\n",
              "    </tr>\n",
              "    <tr>\n",
              "      <th>top</th>\n",
              "      <td>17.07 cents</td>\n",
              "    </tr>\n",
              "    <tr>\n",
              "      <th>freq</th>\n",
              "      <td>1</td>\n",
              "    </tr>\n",
              "  </tbody>\n",
              "</table>\n",
              "</div>"
            ],
            "text/plain": [
              "       Source: https://www.genealogybranches.com/censuscosts.html\n",
              "count                                                  24        \n",
              "unique                                                 24        \n",
              "top                                           17.07 cents        \n",
              "freq                                                    1        "
            ]
          },
          "metadata": {},
          "execution_count": 9
        }
      ]
    }
  ]
}