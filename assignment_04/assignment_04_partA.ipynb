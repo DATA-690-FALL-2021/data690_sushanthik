{
  "nbformat": 4,
  "nbformat_minor": 0,
  "metadata": {
    "colab": {
      "name": "assignment_04_partA.ipynb",
      "provenance": [],
      "authorship_tag": "ABX9TyOw+7zbv1YsbimmF73pYbFv",
      "include_colab_link": true
    },
    "kernelspec": {
      "name": "python3",
      "display_name": "Python 3"
    },
    "language_info": {
      "name": "python"
    }
  },
  "cells": [
    {
      "cell_type": "markdown",
      "metadata": {
        "id": "view-in-github",
        "colab_type": "text"
      },
      "source": [
        "<a href=\"https://colab.research.google.com/github/SushanthikPoreddy/data690_sushanthik/blob/main/assignment_04/assignment_04_partA.ipynb\" target=\"_parent\"><img src=\"https://colab.research.google.com/assets/colab-badge.svg\" alt=\"Open In Colab\"/></a>"
      ]
    },
    {
      "cell_type": "markdown",
      "metadata": {
        "id": "HIYL4jSf-qar"
      },
      "source": [
        "# Assignment 04 PartA\n",
        "- Name: Sushanthik Reddy\n",
        "- StudentID: TY99095"
      ]
    },
    {
      "cell_type": "markdown",
      "metadata": {
        "id": "XGb6PohMWFVH"
      },
      "source": [
        "## 1. Write code to open the text file census_costs.txt and read all lines into a list named \"line_list\". Print line_list."
      ]
    },
    {
      "cell_type": "code",
      "metadata": {
        "colab": {
          "base_uri": "https://localhost:8080/"
        },
        "id": "Zr2c1uq86qm7",
        "outputId": "b7dc406a-b7a3-4bb1-87fe-6e5295a1bc1d"
      },
      "source": [
        "with open(\"/content/census_costs.txt\",\"r\") as f:\n",
        "    line_list = f.readlines()       \n",
        "print(line_list)"
      ],
      "execution_count": 224,
      "outputs": [
        {
          "output_type": "stream",
          "name": "stdout",
          "text": [
            "['Source: https://www.genealogybranches.com/censuscosts.html\\n', 'Census Year\\tTotal Population\\tCensus Cost\\tAverage Cost Per Person\\n', '1790\\t3,929,214\\t$44,377\\t1.13 cents\\n', '1800\\t5,308,483\\t$66,109\\t1.24 cents\\n', '1810\\t7,239,881\\t$178,445\\t2.46 cents\\n', '1820\\t9,633,822\\t$208,526\\t2.16 cents\\n', '1830\\t12,866,020\\t$378,545\\t2.94 cents\\n', '1840\\t17,069,458\\t$833,371\\t4.88 cents\\n', '1850\\t23,191,876\\t$1,423,351\\t6.14 cents\\n', '1860\\t31,443,321\\t$1,969,377\\t6.26 cents\\n', '1870\\t38,558,371\\t$3,421,198\\t8.87 cents\\n', '1880\\t50,155,783\\t$5,790,678\\t11.54 cents\\n', '1890\\t62,979,766\\t$11,547,127\\t18.33 cents\\n', '1900\\t76,303,387\\t$11,854,000\\t15.54 cents\\n', '1910\\t91,972,266\\t$15,968,000\\t17.07 cents\\n', '1920\\t105,710,620\\t$25,117,000\\t23.76 cents\\n', '1930\\t122,775,046\\t$40,156,000\\t32.71 cents\\n', '1940\\t131,669,275\\t$67,527,000\\t51.29 cents\\n', '1950\\t151,325,798\\t$91,462,000\\t60.44 cents\\n', '1960\\t179,323,175\\t$127,934,000\\t71.34 cents\\n', '1970\\t203,302,031\\t$247,653,000\\t$1.22\\n', '1980\\t226,542,199\\t$1,078,488,000\\t$4.76\\n', '1990\\t248,718,301\\t$2,492,830,000\\t$10.02\\n', '2000\\t281,421,906\\t$4.5 Billion\\t$15.99\\n', '2010*\\t308,745,538\\t$13 Billion\\t$42.11']\n"
          ]
        }
      ]
    },
    {
      "cell_type": "markdown",
      "metadata": {
        "id": "WtG0s_X2WOx2"
      },
      "source": [
        "## 2. Extract the first two lines and put them in a different list named \"top2_list\". You will need to use them later. Print the top2_list."
      ]
    },
    {
      "cell_type": "code",
      "metadata": {
        "colab": {
          "base_uri": "https://localhost:8080/"
        },
        "id": "pCzRbKnSBtJz",
        "outputId": "f8183ceb-699a-47c3-fa9c-abc7e3b76024"
      },
      "source": [
        "top2_list = []\n",
        "top2_list.append(line_list[0])\n",
        "top2_list.append(line_list[1])\n",
        "print(top2_list)"
      ],
      "execution_count": 225,
      "outputs": [
        {
          "output_type": "stream",
          "name": "stdout",
          "text": [
            "['Source: https://www.genealogybranches.com/censuscosts.html\\n', 'Census Year\\tTotal Population\\tCensus Cost\\tAverage Cost Per Person\\n']\n"
          ]
        }
      ]
    },
    {
      "cell_type": "markdown",
      "metadata": {
        "id": "ahgvb8HrWZR8"
      },
      "source": [
        "## 3. Put the rest of the lines (containing useful data elements) in a new list named \"data_list\". Print data_list."
      ]
    },
    {
      "cell_type": "code",
      "metadata": {
        "colab": {
          "base_uri": "https://localhost:8080/"
        },
        "id": "hnnYibWuCXhg",
        "outputId": "f98af30e-a08a-41c2-827a-da58ff52cbf9"
      },
      "source": [
        "data_list =[]\n",
        "for line in range(2,len(line_list)):\n",
        "  data_list.append(line_list[line])\n",
        "print(data_list)  "
      ],
      "execution_count": 226,
      "outputs": [
        {
          "output_type": "stream",
          "name": "stdout",
          "text": [
            "['1790\\t3,929,214\\t$44,377\\t1.13 cents\\n', '1800\\t5,308,483\\t$66,109\\t1.24 cents\\n', '1810\\t7,239,881\\t$178,445\\t2.46 cents\\n', '1820\\t9,633,822\\t$208,526\\t2.16 cents\\n', '1830\\t12,866,020\\t$378,545\\t2.94 cents\\n', '1840\\t17,069,458\\t$833,371\\t4.88 cents\\n', '1850\\t23,191,876\\t$1,423,351\\t6.14 cents\\n', '1860\\t31,443,321\\t$1,969,377\\t6.26 cents\\n', '1870\\t38,558,371\\t$3,421,198\\t8.87 cents\\n', '1880\\t50,155,783\\t$5,790,678\\t11.54 cents\\n', '1890\\t62,979,766\\t$11,547,127\\t18.33 cents\\n', '1900\\t76,303,387\\t$11,854,000\\t15.54 cents\\n', '1910\\t91,972,266\\t$15,968,000\\t17.07 cents\\n', '1920\\t105,710,620\\t$25,117,000\\t23.76 cents\\n', '1930\\t122,775,046\\t$40,156,000\\t32.71 cents\\n', '1940\\t131,669,275\\t$67,527,000\\t51.29 cents\\n', '1950\\t151,325,798\\t$91,462,000\\t60.44 cents\\n', '1960\\t179,323,175\\t$127,934,000\\t71.34 cents\\n', '1970\\t203,302,031\\t$247,653,000\\t$1.22\\n', '1980\\t226,542,199\\t$1,078,488,000\\t$4.76\\n', '1990\\t248,718,301\\t$2,492,830,000\\t$10.02\\n', '2000\\t281,421,906\\t$4.5 Billion\\t$15.99\\n', '2010*\\t308,745,538\\t$13 Billion\\t$42.11']\n"
          ]
        }
      ]
    },
    {
      "cell_type": "markdown",
      "metadata": {
        "id": "fd7Xj3RLWhC5"
      },
      "source": [
        "## 4. Extract the column \"Census Year\" from data_list and assign them to a list named year_list. Remove the \"\" from the last element \"2010\". Print the cleansed year_list."
      ]
    },
    {
      "cell_type": "code",
      "metadata": {
        "colab": {
          "base_uri": "https://localhost:8080/"
        },
        "id": "G4KFMP4lh8u8",
        "outputId": "aad95afc-1ec5-4c27-82e3-23c5926980ae"
      },
      "source": [
        "list2 = data_list[0:25] \n",
        "year_list = []\n",
        "\n",
        "for item in list2:\n",
        "  info = item.split(\"\\t\")\n",
        "  year_list.append(info[0])\n",
        "year_list[len(year_list)-1] = \"2010\" \n",
        "print(year_list)"
      ],
      "execution_count": 227,
      "outputs": [
        {
          "output_type": "stream",
          "name": "stdout",
          "text": [
            "['1790', '1800', '1810', '1820', '1830', '1840', '1850', '1860', '1870', '1880', '1890', '1900', '1910', '1920', '1930', '1940', '1950', '1960', '1970', '1980', '1990', '2000', '2010']\n"
          ]
        }
      ]
    },
    {
      "cell_type": "markdown",
      "metadata": {
        "id": "UXPr_s_EULY_"
      },
      "source": [
        "## 5.Extract the \"Total Population\" column from the data_list and assign them to a list named \"pop_list\". Remove the \",\" from the numbers since Python doesn't recognize them. Print the cleansed \"pop_list\"."
      ]
    },
    {
      "cell_type": "code",
      "metadata": {
        "id": "dKPoryUvURDF"
      },
      "source": [
        "list3 = data_list[0:25] \n",
        "pop_list = []\n",
        "\n",
        "for item in list3:\n",
        "  info = item.split(\"\\t\")\n",
        "  pop_list.append(info[1])\n"
      ],
      "execution_count": 228,
      "outputs": []
    },
    {
      "cell_type": "code",
      "metadata": {
        "colab": {
          "base_uri": "https://localhost:8080/"
        },
        "id": "593kEUXGVoJ_",
        "outputId": "3e0f2cae-2a15-43b2-def9-2fbcb00cdc36"
      },
      "source": [
        "for i in range(len(pop_list)):\n",
        "  pop_list[i] = pop_list[i].replace(\",\",\"\")\n",
        "print(pop_list)"
      ],
      "execution_count": 229,
      "outputs": [
        {
          "output_type": "stream",
          "name": "stdout",
          "text": [
            "['3929214', '5308483', '7239881', '9633822', '12866020', '17069458', '23191876', '31443321', '38558371', '50155783', '62979766', '76303387', '91972266', '105710620', '122775046', '131669275', '151325798', '179323175', '203302031', '226542199', '248718301', '281421906', '308745538']\n"
          ]
        }
      ]
    },
    {
      "cell_type": "markdown",
      "metadata": {
        "id": "oOBCvYoIWqjY"
      },
      "source": [
        "## 6. Extract the \"Census Cost\" column from the data_list and assign them to a list named \"cost_list\". Remove the \",\", and \"$\", and \"Billion\". Make sure to add the \"0\"s to the numbers from which you removed \"Billion\". Print the cleansed cost_list."
      ]
    },
    {
      "cell_type": "code",
      "metadata": {
        "id": "Ghi-148eWpoM"
      },
      "source": [
        "list4 = data_list[0:25] \n",
        "cost_list = []\n",
        "\n",
        "for item in list4:\n",
        "  info = item.split(\"\\t\")\n",
        "  cost_list.append(info[2])"
      ],
      "execution_count": 230,
      "outputs": []
    },
    {
      "cell_type": "code",
      "metadata": {
        "colab": {
          "base_uri": "https://localhost:8080/"
        },
        "id": "XB1DNCiNXZJs",
        "outputId": "4118f6b5-8ab5-4521-c82b-8f3e324fb6a0"
      },
      "source": [
        "for i in range(len(cost_list)):\n",
        "  cost_list[i] = cost_list[i].replace(\"$\",\"\").replace(\",\",\"\").replace(\" Billion\",\"000000000\")\n",
        "print(cost_list)"
      ],
      "execution_count": 231,
      "outputs": [
        {
          "output_type": "stream",
          "name": "stdout",
          "text": [
            "['44377', '66109', '178445', '208526', '378545', '833371', '1423351', '1969377', '3421198', '5790678', '11547127', '11854000', '15968000', '25117000', '40156000', '67527000', '91462000', '127934000', '247653000', '1078488000', '2492830000', '4.5000000000', '13000000000']\n"
          ]
        }
      ]
    },
    {
      "cell_type": "markdown",
      "metadata": {
        "id": "bcBHyOqQZuYx"
      },
      "source": [
        "## 7. Extract the \"Average Cost per Person\" column from the data_list and assign them to a list named \"avg_list\". Remove the \"cents\", and \"$\". Make sure to divide the numbers in cents by 100 so that all numbers are measured in dollar. Print the cleansed avg_list."
      ]
    },
    {
      "cell_type": "code",
      "metadata": {
        "id": "LW37A0liZ3tM"
      },
      "source": [
        "list5 = data_list[0:25] \n",
        "avg_list = []\n",
        "\n",
        "for item in list5:\n",
        "  info = item.split(\"\\t\")\n",
        "  avg_list.append(info[3])\n"
      ],
      "execution_count": 232,
      "outputs": []
    },
    {
      "cell_type": "code",
      "metadata": {
        "colab": {
          "base_uri": "https://localhost:8080/"
        },
        "id": "9ObtBSrIaBOX",
        "outputId": "d047b20a-d1cc-4cef-e870-2cd1e20b4540"
      },
      "source": [
        "sample_list= []\n",
        "a = \"\"\n",
        "for i in avg_list:\n",
        "  b = \"cents\"\n",
        "  if b in i:\n",
        "    a = i.replace(\"cents\",\"\")\n",
        "    a = float(a)\n",
        "    a = a/100\n",
        "  else:\n",
        "    a = i.replace(\"$\",\"\")\n",
        "    #a = float(a)\n",
        "  sample_list.append(a)\n",
        "for i in range(0,len(sample_list)):\n",
        "  avg_list[i] = sample_list[i]\n",
        "print(avg_list)"
      ],
      "execution_count": 233,
      "outputs": [
        {
          "output_type": "stream",
          "name": "stdout",
          "text": [
            "[0.0113, 0.0124, 0.0246, 0.0216, 0.0294, 0.048799999999999996, 0.061399999999999996, 0.0626, 0.08869999999999999, 0.11539999999999999, 0.1833, 0.15539999999999998, 0.1707, 0.2376, 0.3271, 0.5129, 0.6043999999999999, 0.7134, '1.22\\n', '4.76\\n', '10.02\\n', '15.99\\n', '42.11']\n"
          ]
        }
      ]
    },
    {
      "cell_type": "markdown",
      "metadata": {
        "id": "BxdXhJnYWXEx"
      },
      "source": [
        "## 8.Coalesce the cleansed data and save them to a text file named \"census_cost.csv\". The new file should look similar to the original source file except that it is in comma-delimited format and the numbers have been cleansed. The top two lines from the original file should be retained in the new file."
      ]
    },
    {
      "cell_type": "code",
      "metadata": {
        "colab": {
          "base_uri": "https://localhost:8080/"
        },
        "id": "-nDU5vKgQq_C",
        "outputId": "a2f6321f-5218-45a5-9bef-019501af0a8f"
      },
      "source": [
        "final_list=[]\n",
        "final_list.append(top2_list[0])\n",
        "final_list.append(top2_list[1])\n",
        "for i in range(0,len(pop_list)):\n",
        "  p = year_list[i]+\"  \"+pop_list[i]+\" \"+cost_list[i]+\"  \"+str(avg_list[i])\n",
        "  final_list.append(p)\n",
        "print(final_list)"
      ],
      "execution_count": 240,
      "outputs": [
        {
          "output_type": "stream",
          "name": "stdout",
          "text": [
            "['Source: https://www.genealogybranches.com/censuscosts.html\\n', 'Census Year\\tTotal Population\\tCensus Cost\\tAverage Cost Per Person\\n', '1790  3929214 44377  0.0113', '1800  5308483 66109  0.0124', '1810  7239881 178445  0.0246', '1820  9633822 208526  0.0216', '1830  12866020 378545  0.0294', '1840  17069458 833371  0.048799999999999996', '1850  23191876 1423351  0.061399999999999996', '1860  31443321 1969377  0.0626', '1870  38558371 3421198  0.08869999999999999', '1880  50155783 5790678  0.11539999999999999', '1890  62979766 11547127  0.1833', '1900  76303387 11854000  0.15539999999999998', '1910  91972266 15968000  0.1707', '1920  105710620 25117000  0.2376', '1930  122775046 40156000  0.3271', '1940  131669275 67527000  0.5129', '1950  151325798 91462000  0.6043999999999999', '1960  179323175 127934000  0.7134', '1970  203302031 247653000  1.22\\n', '1980  226542199 1078488000  4.76\\n', '1990  248718301 2492830000  10.02\\n', '2000  281421906 4.5000000000  15.99\\n', '2010  308745538 13000000000  42.11']\n"
          ]
        }
      ]
    },
    {
      "cell_type": "code",
      "metadata": {
        "id": "djQuuSLgyQi1"
      },
      "source": [
        "import csv\n",
        "with open(\"census_costs.csv\",\"w\") as f:\n",
        "  for p in final_list:\n",
        "    f.write(p)"
      ],
      "execution_count": 243,
      "outputs": []
    },
    {
      "cell_type": "markdown",
      "metadata": {
        "id": "i3yQ1GYSmjZL"
      },
      "source": [
        "## 9.Write code to open the newly-created file \"census_cost.csv\", read all lines and display them. How does it look?"
      ]
    },
    {
      "cell_type": "code",
      "metadata": {
        "id": "9gu5zSQXWtaM"
      },
      "source": [
        "import csv\n",
        "with open(\"census_costs.csv\",\"w\") as f:\n",
        "  for p in final_list:\n",
        "    f.write(p)"
      ],
      "execution_count": 244,
      "outputs": []
    }
  ]
}