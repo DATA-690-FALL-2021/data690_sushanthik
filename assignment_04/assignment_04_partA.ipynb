{
  "nbformat": 4,
  "nbformat_minor": 0,
  "metadata": {
    "colab": {
      "name": "assignment_04_partA.ipynb",
      "provenance": [],
      "authorship_tag": "ABX9TyPTTm/F0tn9wZ9J0AAW2hw7",
      "include_colab_link": true
    },
    "kernelspec": {
      "name": "python3",
      "display_name": "Python 3"
    },
    "language_info": {
      "name": "python"
    }
  },
  "cells": [
    {
      "cell_type": "markdown",
      "metadata": {
        "id": "view-in-github",
        "colab_type": "text"
      },
      "source": [
        "<a href=\"https://colab.research.google.com/github/SushanthikPoreddy/data690_sushanthik/blob/main/assignment_04/assignment_04_partA.ipynb\" target=\"_parent\"><img src=\"https://colab.research.google.com/assets/colab-badge.svg\" alt=\"Open In Colab\"/></a>"
      ]
    },
    {
      "cell_type": "markdown",
      "metadata": {
        "id": "XGb6PohMWFVH"
      },
      "source": [
        "# 1. Write code to open the text file census_costs.txt and read all lines into a list named \"line_list\". Print line_list."
      ]
    },
    {
      "cell_type": "code",
      "metadata": {
        "colab": {
          "base_uri": "https://localhost:8080/"
        },
        "id": "Zr2c1uq86qm7",
        "outputId": "d4ee11c8-7100-4370-8727-96d42546a4e4"
      },
      "source": [
        "with open(\"/content/census_costs.txt\",\"r\") as f:\n",
        "    line_list = f.readlines()       #readlines() is used to read all the lines at a single go and then return them as each line a string element in a list.\n",
        "print(line_list)"
      ],
      "execution_count": 3,
      "outputs": [
        {
          "output_type": "stream",
          "name": "stdout",
          "text": [
            "['Source: https://www.genealogybranches.com/censuscosts.html\\n', 'Census Year\\tTotal Population\\tCensus Cost\\tAverage Cost Per Person\\n', '1790\\t3,929,214\\t$44,377\\t1.13 cents\\n', '1800\\t5,308,483\\t$66,109\\t1.24 cents\\n', '1810\\t7,239,881\\t$178,445\\t2.46 cents\\n', '1820\\t9,633,822\\t$208,526\\t2.16 cents\\n', '1830\\t12,866,020\\t$378,545\\t2.94 cents\\n', '1840\\t17,069,458\\t$833,371\\t4.88 cents\\n', '1850\\t23,191,876\\t$1,423,351\\t6.14 cents\\n', '1860\\t31,443,321\\t$1,969,377\\t6.26 cents\\n', '1870\\t38,558,371\\t$3,421,198\\t8.87 cents\\n', '1880\\t50,155,783\\t$5,790,678\\t11.54 cents\\n', '1890\\t62,979,766\\t$11,547,127\\t18.33 cents\\n', '1900\\t76,303,387\\t$11,854,000\\t15.54 cents\\n', '1910\\t91,972,266\\t$15,968,000\\t17.07 cents\\n', '1920\\t105,710,620\\t$25,117,000\\t23.76 cents\\n', '1930\\t122,775,046\\t$40,156,000\\t32.71 cents\\n', '1940\\t131,669,275\\t$67,527,000\\t51.29 cents\\n', '1950\\t151,325,798\\t$91,462,000\\t60.44 cents\\n', '1960\\t179,323,175\\t$127,934,000\\t71.34 cents\\n', '1970\\t203,302,031\\t$247,653,000\\t$1.22\\n', '1980\\t226,542,199\\t$1,078,488,000\\t$4.76\\n', '1990\\t248,718,301\\t$2,492,830,000\\t$10.02\\n', '2000\\t281,421,906\\t$4.5 Billion\\t$15.99\\n', '2010*\\t308,745,538\\t$13 Billion\\t$42.11']\n"
          ]
        }
      ]
    },
    {
      "cell_type": "markdown",
      "metadata": {
        "id": "WtG0s_X2WOx2"
      },
      "source": [
        "# 2. Extract the first two lines and put them in a different list named \"top2_list\". You will need to use them later. Print the top2_list."
      ]
    },
    {
      "cell_type": "code",
      "metadata": {
        "colab": {
          "base_uri": "https://localhost:8080/"
        },
        "id": "pCzRbKnSBtJz",
        "outputId": "d69e5da8-cfac-4bd4-b998-bb0868fb7f37"
      },
      "source": [
        "top2_list = []\n",
        "top2_list.append(line_list[0])\n",
        "top2_list.append(line_list[1])\n",
        "print(top2_list)"
      ],
      "execution_count": 4,
      "outputs": [
        {
          "output_type": "stream",
          "name": "stdout",
          "text": [
            "['Source: https://www.genealogybranches.com/censuscosts.html\\n', 'Census Year\\tTotal Population\\tCensus Cost\\tAverage Cost Per Person\\n']\n"
          ]
        }
      ]
    },
    {
      "cell_type": "markdown",
      "metadata": {
        "id": "ahgvb8HrWZR8"
      },
      "source": [
        "# 3. Put the rest of the lines (containing useful data elements) in a new list named \"data_list\". Print data_list."
      ]
    },
    {
      "cell_type": "code",
      "metadata": {
        "colab": {
          "base_uri": "https://localhost:8080/"
        },
        "id": "hnnYibWuCXhg",
        "outputId": "6d02d767-5b10-4d4c-d539-b0a92e93f78e"
      },
      "source": [
        "data_list =[]\n",
        "for line in range(2,len(line_list)):\n",
        "  data_list.append(line_list[line])\n",
        "print(data_list)  "
      ],
      "execution_count": 5,
      "outputs": [
        {
          "output_type": "stream",
          "name": "stdout",
          "text": [
            "['1790\\t3,929,214\\t$44,377\\t1.13 cents\\n', '1800\\t5,308,483\\t$66,109\\t1.24 cents\\n', '1810\\t7,239,881\\t$178,445\\t2.46 cents\\n', '1820\\t9,633,822\\t$208,526\\t2.16 cents\\n', '1830\\t12,866,020\\t$378,545\\t2.94 cents\\n', '1840\\t17,069,458\\t$833,371\\t4.88 cents\\n', '1850\\t23,191,876\\t$1,423,351\\t6.14 cents\\n', '1860\\t31,443,321\\t$1,969,377\\t6.26 cents\\n', '1870\\t38,558,371\\t$3,421,198\\t8.87 cents\\n', '1880\\t50,155,783\\t$5,790,678\\t11.54 cents\\n', '1890\\t62,979,766\\t$11,547,127\\t18.33 cents\\n', '1900\\t76,303,387\\t$11,854,000\\t15.54 cents\\n', '1910\\t91,972,266\\t$15,968,000\\t17.07 cents\\n', '1920\\t105,710,620\\t$25,117,000\\t23.76 cents\\n', '1930\\t122,775,046\\t$40,156,000\\t32.71 cents\\n', '1940\\t131,669,275\\t$67,527,000\\t51.29 cents\\n', '1950\\t151,325,798\\t$91,462,000\\t60.44 cents\\n', '1960\\t179,323,175\\t$127,934,000\\t71.34 cents\\n', '1970\\t203,302,031\\t$247,653,000\\t$1.22\\n', '1980\\t226,542,199\\t$1,078,488,000\\t$4.76\\n', '1990\\t248,718,301\\t$2,492,830,000\\t$10.02\\n', '2000\\t281,421,906\\t$4.5 Billion\\t$15.99\\n', '2010*\\t308,745,538\\t$13 Billion\\t$42.11']\n"
          ]
        }
      ]
    },
    {
      "cell_type": "markdown",
      "metadata": {
        "id": "fd7Xj3RLWhC5"
      },
      "source": [
        "# 4. Extract the column \"Census Year\" from data_list and assign them to a list named year_list. Remove the \"\" from the last element \"2010\". Print the cleansed year_list."
      ]
    },
    {
      "cell_type": "code",
      "metadata": {
        "colab": {
          "base_uri": "https://localhost:8080/"
        },
        "id": "G4KFMP4lh8u8",
        "outputId": "eb7deee3-02ba-473d-a927-d745f7d9f720"
      },
      "source": [
        "list2 = data_list[0:25] \n",
        "year_list = []\n",
        "\n",
        "for item in list2:\n",
        "  info = item.split(\"\\t\")\n",
        "  year_list.append(info[0])\n",
        "year_list[len(year_list)-1] = \"2010\" \n",
        "print(year_list)"
      ],
      "execution_count": 26,
      "outputs": [
        {
          "output_type": "stream",
          "name": "stdout",
          "text": [
            "['1790', '1800', '1810', '1820', '1830', '1840', '1850', '1860', '1870', '1880', '1890', '1900', '1910', '1920', '1930', '1940', '1950', '1960', '1970', '1980', '1990', '2000', '2010']\n"
          ]
        }
      ]
    },
    {
      "cell_type": "markdown",
      "metadata": {
        "id": "UXPr_s_EULY_"
      },
      "source": [
        "# 5.Extract the \"Total Population\" column from the data_list and assign them to a list named \"pop_list\". Remove the \",\" from the numbers since Python doesn't recognize them. Print the cleansed \"pop_list\"."
      ]
    },
    {
      "cell_type": "code",
      "metadata": {
        "id": "dKPoryUvURDF"
      },
      "source": [
        "list3 = data_list[0:25] \n",
        "pop_list = []\n",
        "\n",
        "for item in list3:\n",
        "  info = item.split(\"\\t\")\n",
        "  pop_list.append(info[1])\n"
      ],
      "execution_count": 39,
      "outputs": []
    },
    {
      "cell_type": "code",
      "metadata": {
        "colab": {
          "base_uri": "https://localhost:8080/"
        },
        "id": "593kEUXGVoJ_",
        "outputId": "e264be1e-a4ad-4cd2-bdcf-549e44f18d39"
      },
      "source": [
        "for i in pop_list:\n",
        "  pop_list = i.replace(\",\",\"\")\n",
        "  print(pop_list)"
      ],
      "execution_count": 41,
      "outputs": [
        {
          "output_type": "stream",
          "name": "stdout",
          "text": [
            "3929214\n",
            "5308483\n",
            "7239881\n",
            "9633822\n",
            "12866020\n",
            "17069458\n",
            "23191876\n",
            "31443321\n",
            "38558371\n",
            "50155783\n",
            "62979766\n",
            "76303387\n",
            "91972266\n",
            "105710620\n",
            "122775046\n",
            "131669275\n",
            "151325798\n",
            "179323175\n",
            "203302031\n",
            "226542199\n",
            "248718301\n",
            "281421906\n",
            "308745538\n"
          ]
        }
      ]
    },
    {
      "cell_type": "markdown",
      "metadata": {
        "id": "oOBCvYoIWqjY"
      },
      "source": [
        "# 6. Extract the \"Census Cost\" column from the data_list and assign them to a list named \"cost_list\". Remove the \",\", and \"$\", and \"Billion\". Make sure to add the \"0\"s to the numbers from which you removed \"Billion\". Print the cleansed cost_list."
      ]
    },
    {
      "cell_type": "code",
      "metadata": {
        "id": "Ghi-148eWpoM"
      },
      "source": [
        "list4 = data_list[0:25] \n",
        "cost_list = []\n",
        "\n",
        "for item in list4:\n",
        "  info = item.split(\"\\t\")\n",
        "  cost_list.append(info[2])"
      ],
      "execution_count": 66,
      "outputs": []
    },
    {
      "cell_type": "code",
      "metadata": {
        "colab": {
          "base_uri": "https://localhost:8080/"
        },
        "id": "XB1DNCiNXZJs",
        "outputId": "ccbb9ce9-882b-4d98-c5ab-072842bb5084"
      },
      "source": [
        "for i in cost_list:\n",
        "  cost_list = i.replace(\"$\",\"\").replace(\",\",\"\").replace(\"Billion\",\"000000000\")\n",
        "  print(cost_list)"
      ],
      "execution_count": 67,
      "outputs": [
        {
          "output_type": "stream",
          "name": "stdout",
          "text": [
            "44377\n",
            "66109\n",
            "178445\n",
            "208526\n",
            "378545\n",
            "833371\n",
            "1423351\n",
            "1969377\n",
            "3421198\n",
            "5790678\n",
            "11547127\n",
            "11854000\n",
            "15968000\n",
            "25117000\n",
            "40156000\n",
            "67527000\n",
            "91462000\n",
            "127934000\n",
            "247653000\n",
            "1078488000\n",
            "2492830000\n",
            "4.5 000000000\n",
            "13 000000000\n"
          ]
        }
      ]
    },
    {
      "cell_type": "markdown",
      "metadata": {
        "id": "bcBHyOqQZuYx"
      },
      "source": [
        "# 7. Extract the \"Average Cost per Person\" column from the data_list and assign them to a list named \"avg_list\". Remove the \"cents\", and \"$\". Make sure to divide the numbers in cents by 100 so that all numbers are measured in dollar. Print the cleansed avg_list."
      ]
    },
    {
      "cell_type": "code",
      "metadata": {
        "id": "LW37A0liZ3tM"
      },
      "source": [
        "list5 = data_list[0:25] \n",
        "avg_list = []\n",
        "\n",
        "for item in list5:\n",
        "  info = item.split(\"\\t\")\n",
        "  avg_list.append(info[3])\n"
      ],
      "execution_count": 83,
      "outputs": []
    },
    {
      "cell_type": "code",
      "metadata": {
        "colab": {
          "base_uri": "https://localhost:8080/"
        },
        "id": "9ObtBSrIaBOX",
        "outputId": "80dac4ab-71de-4f65-97d6-e8b1b04426e3"
      },
      "source": [
        "for i in avg_list:\n",
        "  avg_list = i.replace(\"$\",\"\").replace(\"cents\",\"\")\n",
        "  print(avg_list)"
      ],
      "execution_count": 84,
      "outputs": [
        {
          "output_type": "stream",
          "name": "stdout",
          "text": [
            "1.13 \n",
            "\n",
            "1.24 \n",
            "\n",
            "2.46 \n",
            "\n",
            "2.16 \n",
            "\n",
            "2.94 \n",
            "\n",
            "4.88 \n",
            "\n",
            "6.14 \n",
            "\n",
            "6.26 \n",
            "\n",
            "8.87 \n",
            "\n",
            "11.54 \n",
            "\n",
            "18.33 \n",
            "\n",
            "15.54 \n",
            "\n",
            "17.07 \n",
            "\n",
            "23.76 \n",
            "\n",
            "32.71 \n",
            "\n",
            "51.29 \n",
            "\n",
            "60.44 \n",
            "\n",
            "71.34 \n",
            "\n",
            "1.22\n",
            "\n",
            "4.76\n",
            "\n",
            "10.02\n",
            "\n",
            "15.99\n",
            "\n",
            "42.11\n"
          ]
        }
      ]
    }
  ]
}