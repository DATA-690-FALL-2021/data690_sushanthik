{
  "nbformat": 4,
  "nbformat_minor": 0,
  "metadata": {
    "colab": {
      "name": "assignment_05.ipynb",
      "provenance": [],
      "authorship_tag": "ABX9TyOreDJYj1ZLNeiq9PntFFhn",
      "include_colab_link": true
    },
    "kernelspec": {
      "name": "python3",
      "display_name": "Python 3"
    },
    "language_info": {
      "name": "python"
    }
  },
  "cells": [
    {
      "cell_type": "markdown",
      "metadata": {
        "id": "view-in-github",
        "colab_type": "text"
      },
      "source": [
        "<a href=\"https://colab.research.google.com/github/SushanthikPoreddy/data690_sushanthik/blob/main/assignment_05/assignment_05.ipynb\" target=\"_parent\"><img src=\"https://colab.research.google.com/assets/colab-badge.svg\" alt=\"Open In Colab\"/></a>"
      ]
    },
    {
      "cell_type": "code",
      "metadata": {
        "id": "cMA_E4E073Yl"
      },
      "source": [
        "import pandas as pd"
      ],
      "execution_count": 7,
      "outputs": []
    },
    {
      "cell_type": "markdown",
      "metadata": {
        "id": "gT9a0sCYawPB"
      },
      "source": [
        "## Upload the 2017-2018 school year file \"MERGED2017_18_PP.csv\" to Colab/Deepnote or any Cloud environment of your choice (you can use your local environment too) and create a Jupyter notebook to explore the dataset:"
      ]
    },
    {
      "cell_type": "code",
      "metadata": {
        "colab": {
          "resources": {
            "http://localhost:8080/nbextensions/google.colab/files.js": {
              "data": "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",
              "ok": true,
              "headers": [
                [
                  "content-type",
                  "application/javascript"
                ]
              ],
              "status": 200,
              "status_text": ""
            }
          },
          "base_uri": "https://localhost:8080/",
          "height": 73
        },
        "id": "RpsewHPBWsQd",
        "outputId": "6b1ecce5-c9b1-499e-add6-e544c005d755"
      },
      "source": [
        "from google.colab import files\n",
        "uploaded = files.upload()"
      ],
      "execution_count": 8,
      "outputs": [
        {
          "output_type": "display_data",
          "data": {
            "text/html": [
              "\n",
              "     <input type=\"file\" id=\"files-19f40d53-38a5-4e6e-936f-a2cb22b50d34\" name=\"files[]\" multiple disabled\n",
              "        style=\"border:none\" />\n",
              "     <output id=\"result-19f40d53-38a5-4e6e-936f-a2cb22b50d34\">\n",
              "      Upload widget is only available when the cell has been executed in the\n",
              "      current browser session. Please rerun this cell to enable.\n",
              "      </output>\n",
              "      <script src=\"/nbextensions/google.colab/files.js\"></script> "
            ],
            "text/plain": [
              "<IPython.core.display.HTML object>"
            ]
          },
          "metadata": {}
        },
        {
          "output_type": "stream",
          "name": "stdout",
          "text": [
            "Saving MERGED2017_18_PP.csv to MERGED2017_18_PP.csv\n"
          ]
        }
      ]
    },
    {
      "cell_type": "code",
      "metadata": {
        "colab": {
          "base_uri": "https://localhost:8080/"
        },
        "id": "w1qhhGRSZZXN",
        "outputId": "198a75bc-6f73-4eda-e61f-bcc8170baa17"
      },
      "source": [
        "import io\n",
        "df = pd.read_csv(io.BytesIO(uploaded['MERGED2017_18_PP.csv']))\n",
        "print(df)"
      ],
      "execution_count": 132,
      "outputs": [
        {
          "output_type": "stream",
          "name": "stderr",
          "text": [
            "/usr/local/lib/python3.7/dist-packages/IPython/core/interactiveshell.py:2718: DtypeWarning: Columns (1729) have mixed types.Specify dtype option on import or set low_memory=False.\n",
            "  interactivity=interactivity, compiler=compiler, result=result)\n"
          ]
        },
        {
          "output_type": "stream",
          "name": "stdout",
          "text": [
            "        UNITID    OPEID  ...  FTFTPCTFLOAN_POOLED_SUPP SCUGFFN_POOLED\n",
            "0       100654   100200  ...                       NaN            NaN\n",
            "1       100663   105200  ...                       NaN            NaN\n",
            "2       100690  2503400  ...                       NaN            NaN\n",
            "3       100706   105500  ...                       NaN            NaN\n",
            "4       100724   100500  ...                       NaN            NaN\n",
            "...        ...      ...  ...                       ...            ...\n",
            "7107  48312404   108163  ...                       NaN            NaN\n",
            "7108  48387801  4223701  ...                       NaN            NaN\n",
            "7109  48400201  4228101  ...                       NaN            NaN\n",
            "7110  48778201  4221501  ...                       NaN            NaN\n",
            "7111  49005401  4182601  ...                       NaN            NaN\n",
            "\n",
            "[7112 rows x 1986 columns]\n"
          ]
        }
      ]
    },
    {
      "cell_type": "markdown",
      "metadata": {
        "id": "Kz3b_wIJcCBi"
      },
      "source": [
        "## how many colleges or rows and columns?"
      ]
    },
    {
      "cell_type": "code",
      "metadata": {
        "colab": {
          "base_uri": "https://localhost:8080/"
        },
        "id": "8yq2SSV3ZwPd",
        "outputId": "fdf4ee88-9650-44f8-bac9-51a5ec37a166"
      },
      "source": [
        "print(\"Number of Rows or Colleges: \", df.shape[0])\n",
        "print(\"Number of Columns or Variables: \", df.shape[1])"
      ],
      "execution_count": 11,
      "outputs": [
        {
          "output_type": "stream",
          "name": "stdout",
          "text": [
            "Number of Rows or Colleges:  7112\n",
            "Number of Columns or Variables:  1986\n"
          ]
        }
      ]
    },
    {
      "cell_type": "markdown",
      "metadata": {
        "id": "aFeduQAAb7uj"
      },
      "source": [
        "## Look at the first 5 colleges"
      ]
    },
    {
      "cell_type": "code",
      "metadata": {
        "colab": {
          "base_uri": "https://localhost:8080/",
          "height": 437
        },
        "id": "3aC_Y5JFaQS7",
        "outputId": "d779a972-7f2a-4a0d-cee8-b4129cf4451b"
      },
      "source": [
        "df.head(5)"
      ],
      "execution_count": 133,
      "outputs": [
        {
          "output_type": "execute_result",
          "data": {
            "text/html": [
              "<div>\n",
              "<style scoped>\n",
              "    .dataframe tbody tr th:only-of-type {\n",
              "        vertical-align: middle;\n",
              "    }\n",
              "\n",
              "    .dataframe tbody tr th {\n",
              "        vertical-align: top;\n",
              "    }\n",
              "\n",
              "    .dataframe thead th {\n",
              "        text-align: right;\n",
              "    }\n",
              "</style>\n",
              "<table border=\"1\" class=\"dataframe\">\n",
              "  <thead>\n",
              "    <tr style=\"text-align: right;\">\n",
              "      <th></th>\n",
              "      <th>UNITID</th>\n",
              "      <th>OPEID</th>\n",
              "      <th>OPEID6</th>\n",
              "      <th>INSTNM</th>\n",
              "      <th>CITY</th>\n",
              "      <th>STABBR</th>\n",
              "      <th>ZIP</th>\n",
              "      <th>ACCREDAGENCY</th>\n",
              "      <th>INSTURL</th>\n",
              "      <th>NPCURL</th>\n",
              "      <th>SCH_DEG</th>\n",
              "      <th>HCM2</th>\n",
              "      <th>MAIN</th>\n",
              "      <th>NUMBRANCH</th>\n",
              "      <th>PREDDEG</th>\n",
              "      <th>HIGHDEG</th>\n",
              "      <th>CONTROL</th>\n",
              "      <th>ST_FIPS</th>\n",
              "      <th>REGION</th>\n",
              "      <th>LOCALE</th>\n",
              "      <th>LOCALE2</th>\n",
              "      <th>LATITUDE</th>\n",
              "      <th>LONGITUDE</th>\n",
              "      <th>CCBASIC</th>\n",
              "      <th>CCUGPROF</th>\n",
              "      <th>CCSIZSET</th>\n",
              "      <th>HBCU</th>\n",
              "      <th>PBI</th>\n",
              "      <th>ANNHI</th>\n",
              "      <th>TRIBAL</th>\n",
              "      <th>AANAPII</th>\n",
              "      <th>HSI</th>\n",
              "      <th>NANTI</th>\n",
              "      <th>MENONLY</th>\n",
              "      <th>WOMENONLY</th>\n",
              "      <th>RELAFFIL</th>\n",
              "      <th>ADM_RATE</th>\n",
              "      <th>ADM_RATE_ALL</th>\n",
              "      <th>SATVR25</th>\n",
              "      <th>SATVR75</th>\n",
              "      <th>...</th>\n",
              "      <th>OMENRAP_NOTFIRSTTIME</th>\n",
              "      <th>OMAWDP8_NOTFIRSTTIME</th>\n",
              "      <th>OMENRUP_NOTFIRSTTIME</th>\n",
              "      <th>OMENRYP_FULLTIME</th>\n",
              "      <th>OMENRAP_FULLTIME</th>\n",
              "      <th>OMAWDP8_FULLTIME</th>\n",
              "      <th>OMENRUP_FULLTIME</th>\n",
              "      <th>OMENRYP_PARTTIME</th>\n",
              "      <th>OMENRAP_PARTTIME</th>\n",
              "      <th>OMAWDP8_PARTTIME</th>\n",
              "      <th>OMENRUP_PARTTIME</th>\n",
              "      <th>OMENRYP_ALL_POOLED_SUPP</th>\n",
              "      <th>OMENRAP_ALL_POOLED_SUPP</th>\n",
              "      <th>OMAWDP8_ALL_POOLED_SUPP</th>\n",
              "      <th>OMENRUP_ALL_POOLED_SUPP</th>\n",
              "      <th>OMENRYP_FIRSTTIME_POOLED_SUPP</th>\n",
              "      <th>OMENRAP_FIRSTTIME_POOLED_SUPP</th>\n",
              "      <th>OMAWDP8_FIRSTTIME_POOLED_SUPP</th>\n",
              "      <th>OMENRUP_FIRSTTIME_POOLED_SUPP</th>\n",
              "      <th>OMENRYP_NOTFIRSTTIME_POOLED_SUPP</th>\n",
              "      <th>OMENRAP_NOTFIRSTTIME_POOLED_SUPP</th>\n",
              "      <th>OMAWDP8_NOTFIRSTTIME_POOLED_SUPP</th>\n",
              "      <th>OMENRUP_NOTFIRSTTIME_POOLED_SUPP</th>\n",
              "      <th>OMENRYP_FULLTIME_POOLED_SUPP</th>\n",
              "      <th>OMENRAP_FULLTIME_POOLED_SUPP</th>\n",
              "      <th>OMAWDP8_FULLTIME_POOLED_SUPP</th>\n",
              "      <th>OMENRUP_FULLTIME_POOLED_SUPP</th>\n",
              "      <th>OMENRYP_PARTTIME_POOLED_SUPP</th>\n",
              "      <th>OMENRAP_PARTTIME_POOLED_SUPP</th>\n",
              "      <th>OMAWDP8_PARTTIME_POOLED_SUPP</th>\n",
              "      <th>OMENRUP_PARTTIME_POOLED_SUPP</th>\n",
              "      <th>FTFTPCTPELL</th>\n",
              "      <th>FTFTPCTFLOAN</th>\n",
              "      <th>UG12MN</th>\n",
              "      <th>G12MN</th>\n",
              "      <th>SCUGFFN</th>\n",
              "      <th>POOLYRS_FTFTAIDPCT</th>\n",
              "      <th>FTFTPCTPELL_POOLED_SUPP</th>\n",
              "      <th>FTFTPCTFLOAN_POOLED_SUPP</th>\n",
              "      <th>SCUGFFN_POOLED</th>\n",
              "    </tr>\n",
              "  </thead>\n",
              "  <tbody>\n",
              "    <tr>\n",
              "      <th>0</th>\n",
              "      <td>100654</td>\n",
              "      <td>100200</td>\n",
              "      <td>1002</td>\n",
              "      <td>Alabama A &amp; M University</td>\n",
              "      <td>Normal</td>\n",
              "      <td>AL</td>\n",
              "      <td>35762</td>\n",
              "      <td>NaN</td>\n",
              "      <td>NaN</td>\n",
              "      <td>NaN</td>\n",
              "      <td>NaN</td>\n",
              "      <td>NaN</td>\n",
              "      <td>1</td>\n",
              "      <td>1</td>\n",
              "      <td>3</td>\n",
              "      <td>4</td>\n",
              "      <td>1</td>\n",
              "      <td>1</td>\n",
              "      <td>5</td>\n",
              "      <td>NaN</td>\n",
              "      <td>NaN</td>\n",
              "      <td>NaN</td>\n",
              "      <td>NaN</td>\n",
              "      <td>NaN</td>\n",
              "      <td>NaN</td>\n",
              "      <td>NaN</td>\n",
              "      <td>NaN</td>\n",
              "      <td>NaN</td>\n",
              "      <td>NaN</td>\n",
              "      <td>NaN</td>\n",
              "      <td>NaN</td>\n",
              "      <td>NaN</td>\n",
              "      <td>NaN</td>\n",
              "      <td>NaN</td>\n",
              "      <td>NaN</td>\n",
              "      <td>NaN</td>\n",
              "      <td>0.9027</td>\n",
              "      <td>0.9027</td>\n",
              "      <td>365.0</td>\n",
              "      <td>485.0</td>\n",
              "      <td>...</td>\n",
              "      <td>0.3623</td>\n",
              "      <td>0.4008</td>\n",
              "      <td>0.2227</td>\n",
              "      <td>0.0251</td>\n",
              "      <td>0.3966</td>\n",
              "      <td>0.3707</td>\n",
              "      <td>0.2076</td>\n",
              "      <td>0.0309</td>\n",
              "      <td>0.4517</td>\n",
              "      <td>0.2625</td>\n",
              "      <td>0.2548</td>\n",
              "      <td>NaN</td>\n",
              "      <td>NaN</td>\n",
              "      <td>NaN</td>\n",
              "      <td>NaN</td>\n",
              "      <td>NaN</td>\n",
              "      <td>NaN</td>\n",
              "      <td>NaN</td>\n",
              "      <td>NaN</td>\n",
              "      <td>NaN</td>\n",
              "      <td>NaN</td>\n",
              "      <td>NaN</td>\n",
              "      <td>NaN</td>\n",
              "      <td>NaN</td>\n",
              "      <td>NaN</td>\n",
              "      <td>NaN</td>\n",
              "      <td>NaN</td>\n",
              "      <td>NaN</td>\n",
              "      <td>NaN</td>\n",
              "      <td>NaN</td>\n",
              "      <td>NaN</td>\n",
              "      <td>0.7106</td>\n",
              "      <td>0.7418</td>\n",
              "      <td>5207.0</td>\n",
              "      <td>1185.0</td>\n",
              "      <td>1410.0</td>\n",
              "      <td>NaN</td>\n",
              "      <td>NaN</td>\n",
              "      <td>NaN</td>\n",
              "      <td>NaN</td>\n",
              "    </tr>\n",
              "    <tr>\n",
              "      <th>1</th>\n",
              "      <td>100663</td>\n",
              "      <td>105200</td>\n",
              "      <td>1052</td>\n",
              "      <td>University of Alabama at Birmingham</td>\n",
              "      <td>Birmingham</td>\n",
              "      <td>AL</td>\n",
              "      <td>35294-0110</td>\n",
              "      <td>NaN</td>\n",
              "      <td>NaN</td>\n",
              "      <td>NaN</td>\n",
              "      <td>NaN</td>\n",
              "      <td>NaN</td>\n",
              "      <td>1</td>\n",
              "      <td>1</td>\n",
              "      <td>3</td>\n",
              "      <td>4</td>\n",
              "      <td>1</td>\n",
              "      <td>1</td>\n",
              "      <td>5</td>\n",
              "      <td>NaN</td>\n",
              "      <td>NaN</td>\n",
              "      <td>NaN</td>\n",
              "      <td>NaN</td>\n",
              "      <td>NaN</td>\n",
              "      <td>NaN</td>\n",
              "      <td>NaN</td>\n",
              "      <td>NaN</td>\n",
              "      <td>NaN</td>\n",
              "      <td>NaN</td>\n",
              "      <td>NaN</td>\n",
              "      <td>NaN</td>\n",
              "      <td>NaN</td>\n",
              "      <td>NaN</td>\n",
              "      <td>NaN</td>\n",
              "      <td>NaN</td>\n",
              "      <td>NaN</td>\n",
              "      <td>0.9181</td>\n",
              "      <td>0.9181</td>\n",
              "      <td>440.0</td>\n",
              "      <td>630.0</td>\n",
              "      <td>...</td>\n",
              "      <td>0.2603</td>\n",
              "      <td>0.5284</td>\n",
              "      <td>0.0822</td>\n",
              "      <td>0.1162</td>\n",
              "      <td>0.2663</td>\n",
              "      <td>0.5721</td>\n",
              "      <td>0.0454</td>\n",
              "      <td>0.1886</td>\n",
              "      <td>0.2672</td>\n",
              "      <td>0.4008</td>\n",
              "      <td>0.1434</td>\n",
              "      <td>NaN</td>\n",
              "      <td>NaN</td>\n",
              "      <td>NaN</td>\n",
              "      <td>NaN</td>\n",
              "      <td>NaN</td>\n",
              "      <td>NaN</td>\n",
              "      <td>NaN</td>\n",
              "      <td>NaN</td>\n",
              "      <td>NaN</td>\n",
              "      <td>NaN</td>\n",
              "      <td>NaN</td>\n",
              "      <td>NaN</td>\n",
              "      <td>NaN</td>\n",
              "      <td>NaN</td>\n",
              "      <td>NaN</td>\n",
              "      <td>NaN</td>\n",
              "      <td>NaN</td>\n",
              "      <td>NaN</td>\n",
              "      <td>NaN</td>\n",
              "      <td>NaN</td>\n",
              "      <td>0.4009</td>\n",
              "      <td>0.5488</td>\n",
              "      <td>13308.0</td>\n",
              "      <td>9888.0</td>\n",
              "      <td>1948.0</td>\n",
              "      <td>NaN</td>\n",
              "      <td>NaN</td>\n",
              "      <td>NaN</td>\n",
              "      <td>NaN</td>\n",
              "    </tr>\n",
              "    <tr>\n",
              "      <th>2</th>\n",
              "      <td>100690</td>\n",
              "      <td>2503400</td>\n",
              "      <td>25034</td>\n",
              "      <td>Amridge University</td>\n",
              "      <td>Montgomery</td>\n",
              "      <td>AL</td>\n",
              "      <td>36117-3553</td>\n",
              "      <td>NaN</td>\n",
              "      <td>NaN</td>\n",
              "      <td>NaN</td>\n",
              "      <td>NaN</td>\n",
              "      <td>NaN</td>\n",
              "      <td>1</td>\n",
              "      <td>1</td>\n",
              "      <td>3</td>\n",
              "      <td>4</td>\n",
              "      <td>2</td>\n",
              "      <td>1</td>\n",
              "      <td>5</td>\n",
              "      <td>NaN</td>\n",
              "      <td>NaN</td>\n",
              "      <td>NaN</td>\n",
              "      <td>NaN</td>\n",
              "      <td>NaN</td>\n",
              "      <td>NaN</td>\n",
              "      <td>NaN</td>\n",
              "      <td>NaN</td>\n",
              "      <td>NaN</td>\n",
              "      <td>NaN</td>\n",
              "      <td>NaN</td>\n",
              "      <td>NaN</td>\n",
              "      <td>NaN</td>\n",
              "      <td>NaN</td>\n",
              "      <td>NaN</td>\n",
              "      <td>NaN</td>\n",
              "      <td>NaN</td>\n",
              "      <td>NaN</td>\n",
              "      <td>NaN</td>\n",
              "      <td>NaN</td>\n",
              "      <td>NaN</td>\n",
              "      <td>...</td>\n",
              "      <td>0.2679</td>\n",
              "      <td>0.4241</td>\n",
              "      <td>0.2902</td>\n",
              "      <td>0.0112</td>\n",
              "      <td>0.2793</td>\n",
              "      <td>0.4022</td>\n",
              "      <td>0.3073</td>\n",
              "      <td>0.0317</td>\n",
              "      <td>0.2381</td>\n",
              "      <td>0.4603</td>\n",
              "      <td>0.2698</td>\n",
              "      <td>NaN</td>\n",
              "      <td>NaN</td>\n",
              "      <td>NaN</td>\n",
              "      <td>NaN</td>\n",
              "      <td>NaN</td>\n",
              "      <td>NaN</td>\n",
              "      <td>NaN</td>\n",
              "      <td>NaN</td>\n",
              "      <td>NaN</td>\n",
              "      <td>NaN</td>\n",
              "      <td>NaN</td>\n",
              "      <td>NaN</td>\n",
              "      <td>NaN</td>\n",
              "      <td>NaN</td>\n",
              "      <td>NaN</td>\n",
              "      <td>NaN</td>\n",
              "      <td>NaN</td>\n",
              "      <td>NaN</td>\n",
              "      <td>NaN</td>\n",
              "      <td>NaN</td>\n",
              "      <td>0.5000</td>\n",
              "      <td>0.5000</td>\n",
              "      <td>431.0</td>\n",
              "      <td>437.0</td>\n",
              "      <td>4.0</td>\n",
              "      <td>NaN</td>\n",
              "      <td>NaN</td>\n",
              "      <td>NaN</td>\n",
              "      <td>NaN</td>\n",
              "    </tr>\n",
              "    <tr>\n",
              "      <th>3</th>\n",
              "      <td>100706</td>\n",
              "      <td>105500</td>\n",
              "      <td>1055</td>\n",
              "      <td>University of Alabama in Huntsville</td>\n",
              "      <td>Huntsville</td>\n",
              "      <td>AL</td>\n",
              "      <td>35899</td>\n",
              "      <td>NaN</td>\n",
              "      <td>NaN</td>\n",
              "      <td>NaN</td>\n",
              "      <td>NaN</td>\n",
              "      <td>NaN</td>\n",
              "      <td>1</td>\n",
              "      <td>1</td>\n",
              "      <td>3</td>\n",
              "      <td>4</td>\n",
              "      <td>1</td>\n",
              "      <td>1</td>\n",
              "      <td>5</td>\n",
              "      <td>NaN</td>\n",
              "      <td>NaN</td>\n",
              "      <td>NaN</td>\n",
              "      <td>NaN</td>\n",
              "      <td>NaN</td>\n",
              "      <td>NaN</td>\n",
              "      <td>NaN</td>\n",
              "      <td>NaN</td>\n",
              "      <td>NaN</td>\n",
              "      <td>NaN</td>\n",
              "      <td>NaN</td>\n",
              "      <td>NaN</td>\n",
              "      <td>NaN</td>\n",
              "      <td>NaN</td>\n",
              "      <td>NaN</td>\n",
              "      <td>NaN</td>\n",
              "      <td>NaN</td>\n",
              "      <td>0.8123</td>\n",
              "      <td>0.8123</td>\n",
              "      <td>550.0</td>\n",
              "      <td>660.0</td>\n",
              "      <td>...</td>\n",
              "      <td>0.2973</td>\n",
              "      <td>0.5165</td>\n",
              "      <td>0.1762</td>\n",
              "      <td>0.0163</td>\n",
              "      <td>0.3042</td>\n",
              "      <td>0.5472</td>\n",
              "      <td>0.1322</td>\n",
              "      <td>0.0183</td>\n",
              "      <td>0.3670</td>\n",
              "      <td>0.3578</td>\n",
              "      <td>0.2569</td>\n",
              "      <td>NaN</td>\n",
              "      <td>NaN</td>\n",
              "      <td>NaN</td>\n",
              "      <td>NaN</td>\n",
              "      <td>NaN</td>\n",
              "      <td>NaN</td>\n",
              "      <td>NaN</td>\n",
              "      <td>NaN</td>\n",
              "      <td>NaN</td>\n",
              "      <td>NaN</td>\n",
              "      <td>NaN</td>\n",
              "      <td>NaN</td>\n",
              "      <td>NaN</td>\n",
              "      <td>NaN</td>\n",
              "      <td>NaN</td>\n",
              "      <td>NaN</td>\n",
              "      <td>NaN</td>\n",
              "      <td>NaN</td>\n",
              "      <td>NaN</td>\n",
              "      <td>NaN</td>\n",
              "      <td>0.2012</td>\n",
              "      <td>0.4231</td>\n",
              "      <td>7519.0</td>\n",
              "      <td>2378.0</td>\n",
              "      <td>1203.0</td>\n",
              "      <td>NaN</td>\n",
              "      <td>NaN</td>\n",
              "      <td>NaN</td>\n",
              "      <td>NaN</td>\n",
              "    </tr>\n",
              "    <tr>\n",
              "      <th>4</th>\n",
              "      <td>100724</td>\n",
              "      <td>100500</td>\n",
              "      <td>1005</td>\n",
              "      <td>Alabama State University</td>\n",
              "      <td>Montgomery</td>\n",
              "      <td>AL</td>\n",
              "      <td>36104-0271</td>\n",
              "      <td>NaN</td>\n",
              "      <td>NaN</td>\n",
              "      <td>NaN</td>\n",
              "      <td>NaN</td>\n",
              "      <td>NaN</td>\n",
              "      <td>1</td>\n",
              "      <td>1</td>\n",
              "      <td>3</td>\n",
              "      <td>4</td>\n",
              "      <td>1</td>\n",
              "      <td>1</td>\n",
              "      <td>5</td>\n",
              "      <td>NaN</td>\n",
              "      <td>NaN</td>\n",
              "      <td>NaN</td>\n",
              "      <td>NaN</td>\n",
              "      <td>NaN</td>\n",
              "      <td>NaN</td>\n",
              "      <td>NaN</td>\n",
              "      <td>NaN</td>\n",
              "      <td>NaN</td>\n",
              "      <td>NaN</td>\n",
              "      <td>NaN</td>\n",
              "      <td>NaN</td>\n",
              "      <td>NaN</td>\n",
              "      <td>NaN</td>\n",
              "      <td>NaN</td>\n",
              "      <td>NaN</td>\n",
              "      <td>NaN</td>\n",
              "      <td>0.9787</td>\n",
              "      <td>0.9787</td>\n",
              "      <td>380.0</td>\n",
              "      <td>485.0</td>\n",
              "      <td>...</td>\n",
              "      <td>0.5292</td>\n",
              "      <td>0.4296</td>\n",
              "      <td>0.0000</td>\n",
              "      <td>0.0362</td>\n",
              "      <td>0.5049</td>\n",
              "      <td>0.3226</td>\n",
              "      <td>0.1363</td>\n",
              "      <td>0.0172</td>\n",
              "      <td>0.5690</td>\n",
              "      <td>0.1897</td>\n",
              "      <td>0.2241</td>\n",
              "      <td>NaN</td>\n",
              "      <td>NaN</td>\n",
              "      <td>NaN</td>\n",
              "      <td>NaN</td>\n",
              "      <td>NaN</td>\n",
              "      <td>NaN</td>\n",
              "      <td>NaN</td>\n",
              "      <td>NaN</td>\n",
              "      <td>NaN</td>\n",
              "      <td>NaN</td>\n",
              "      <td>NaN</td>\n",
              "      <td>NaN</td>\n",
              "      <td>NaN</td>\n",
              "      <td>NaN</td>\n",
              "      <td>NaN</td>\n",
              "      <td>NaN</td>\n",
              "      <td>NaN</td>\n",
              "      <td>NaN</td>\n",
              "      <td>NaN</td>\n",
              "      <td>NaN</td>\n",
              "      <td>0.7594</td>\n",
              "      <td>0.7402</td>\n",
              "      <td>5229.0</td>\n",
              "      <td>687.0</td>\n",
              "      <td>1143.0</td>\n",
              "      <td>NaN</td>\n",
              "      <td>NaN</td>\n",
              "      <td>NaN</td>\n",
              "      <td>NaN</td>\n",
              "    </tr>\n",
              "  </tbody>\n",
              "</table>\n",
              "<p>5 rows × 1986 columns</p>\n",
              "</div>"
            ],
            "text/plain": [
              "   UNITID    OPEID  ...  FTFTPCTFLOAN_POOLED_SUPP SCUGFFN_POOLED\n",
              "0  100654   100200  ...                       NaN            NaN\n",
              "1  100663   105200  ...                       NaN            NaN\n",
              "2  100690  2503400  ...                       NaN            NaN\n",
              "3  100706   105500  ...                       NaN            NaN\n",
              "4  100724   100500  ...                       NaN            NaN\n",
              "\n",
              "[5 rows x 1986 columns]"
            ]
          },
          "metadata": {},
          "execution_count": 133
        }
      ]
    },
    {
      "cell_type": "markdown",
      "metadata": {
        "id": "cmuHrE86b1TT"
      },
      "source": [
        "## look at the last 5 colleges"
      ]
    },
    {
      "cell_type": "code",
      "metadata": {
        "colab": {
          "base_uri": "https://localhost:8080/"
        },
        "id": "IQLpWaXGaVeh",
        "outputId": "59a399dc-b1ea-41de-f1f1-7a485dfbc73a"
      },
      "source": [
        "print(df.tail(5))"
      ],
      "execution_count": 13,
      "outputs": [
        {
          "output_type": "stream",
          "name": "stdout",
          "text": [
            "        UNITID    OPEID  ...  FTFTPCTFLOAN_POOLED_SUPP SCUGFFN_POOLED\n",
            "7107  48312404   108163  ...                       NaN            NaN\n",
            "7108  48387801  4223701  ...                       NaN            NaN\n",
            "7109  48400201  4228101  ...                       NaN            NaN\n",
            "7110  48778201  4221501  ...                       NaN            NaN\n",
            "7111  49005401  4182601  ...                       NaN            NaN\n",
            "\n",
            "[5 rows x 1986 columns]\n"
          ]
        }
      ]
    },
    {
      "cell_type": "markdown",
      "metadata": {
        "id": "f6xAy88_byiq"
      },
      "source": [
        "## Look at a random sample of 5 colleges"
      ]
    },
    {
      "cell_type": "code",
      "metadata": {
        "colab": {
          "base_uri": "https://localhost:8080/"
        },
        "id": "rZ0KUe6racMJ",
        "outputId": "3d9ec801-cdd7-4346-9ee9-ef69e9e93026"
      },
      "source": [
        "print(df.sample(5))"
      ],
      "execution_count": 14,
      "outputs": [
        {
          "output_type": "stream",
          "name": "stdout",
          "text": [
            "      UNITID    OPEID  ...  FTFTPCTFLOAN_POOLED_SUPP SCUGFFN_POOLED\n",
            "519   126049  1085400  ...                       NaN            NaN\n",
            "634   130837  2125200  ...                       NaN            NaN\n",
            "3152  216223  2206300  ...                       NaN            NaN\n",
            "5647  458034  4138500  ...                       NaN            NaN\n",
            "4702  431169  2218200  ...                       NaN            NaN\n",
            "\n",
            "[5 rows x 1986 columns]\n"
          ]
        }
      ]
    },
    {
      "cell_type": "markdown",
      "metadata": {
        "id": "D7tllJQ2f5XI"
      },
      "source": [
        "## Since there are too many variables to explore, many of which are not interesting. Create a smaller data frame with the following 9 variables:"
      ]
    },
    {
      "cell_type": "code",
      "metadata": {
        "id": "ISFyByA9evSI"
      },
      "source": [
        "df2 = pd.DataFrame()"
      ],
      "execution_count": 19,
      "outputs": []
    },
    {
      "cell_type": "code",
      "metadata": {
        "colab": {
          "base_uri": "https://localhost:8080/"
        },
        "id": "88WstI0mfQWo",
        "outputId": "082360da-4eb4-4922-a017-16dfdda96afe"
      },
      "source": [
        "df2 = df.filter(['UNITID','INSTNM','CITY','STABBR','ZIP','ADM_RATE','UGDS','TUITIONFEE_IN','MN_EARN_WNE_P10'])\n",
        "print(df2)"
      ],
      "execution_count": 23,
      "outputs": [
        {
          "output_type": "stream",
          "name": "stdout",
          "text": [
            "        UNITID  ... MN_EARN_WNE_P10\n",
            "0       100654  ...             NaN\n",
            "1       100663  ...             NaN\n",
            "2       100690  ...             NaN\n",
            "3       100706  ...             NaN\n",
            "4       100724  ...             NaN\n",
            "...        ...  ...             ...\n",
            "7107  48312404  ...             NaN\n",
            "7108  48387801  ...             NaN\n",
            "7109  48400201  ...             NaN\n",
            "7110  48778201  ...             NaN\n",
            "7111  49005401  ...             NaN\n",
            "\n",
            "[7112 rows x 9 columns]\n"
          ]
        }
      ]
    },
    {
      "cell_type": "markdown",
      "metadata": {
        "id": "i_aaX1s6f_R3"
      },
      "source": [
        "# Definitions\n",
        "## 1.UNITID:\n",
        "- Unit ID for institution and this will be unique for each and every university.\n",
        "\n",
        "## 2.INSTNM:\n",
        "- It refers to the name of the Institution.\n",
        "\n",
        "## 3.CITY:\n",
        "- This attribute refers to the city where the university is located.\n",
        "\n",
        "## 4.STABBR:\n",
        "- This refers to the State postcode of the university.\n",
        "\n",
        "## 5.ZIP:\n",
        "- This refers to the ZIP Code of the location the university located.\n",
        " \n",
        "## 6.ADM_RATE:\n",
        "- This contains the Admission rate of the university.\n",
        "\n",
        "## 7.UGDS\n",
        "- This contains Enrollment of undergraduate certificate/degree-seeking  students in the university.\n",
        "\n",
        "## 8.TUITIONFEE_IN\n",
        "- It defines the In-state tuition and fees of the university.\n",
        "\n",
        "## 9.MN_EARN_WNE_P10:\n",
        "- This holds the Mean earnings of students working and not enrolled 10 years after entry from the university."
      ]
    },
    {
      "cell_type": "markdown",
      "metadata": {
        "id": "IpZLhMf4nM_5"
      },
      "source": [
        "## Explore the smaller data frame\n"
      ]
    },
    {
      "cell_type": "markdown",
      "metadata": {
        "id": "P4vZ_v0svaI3"
      },
      "source": [
        "- 1.Look at the first 10 colleges"
      ]
    },
    {
      "cell_type": "code",
      "metadata": {
        "colab": {
          "base_uri": "https://localhost:8080/"
        },
        "id": "m_smJR6bjNmA",
        "outputId": "174bd7c8-7fd3-4f0c-dbce-d3b4d6d0d4ee"
      },
      "source": [
        "print(df2.head(10))"
      ],
      "execution_count": 24,
      "outputs": [
        {
          "output_type": "stream",
          "name": "stdout",
          "text": [
            "   UNITID                               INSTNM  ... TUITIONFEE_IN MN_EARN_WNE_P10\n",
            "0  100654             Alabama A & M University  ...        9857.0             NaN\n",
            "1  100663  University of Alabama at Birmingham  ...        8328.0             NaN\n",
            "2  100690                   Amridge University  ...        6900.0             NaN\n",
            "3  100706  University of Alabama in Huntsville  ...       10280.0             NaN\n",
            "4  100724             Alabama State University  ...       11068.0             NaN\n",
            "5  100751            The University of Alabama  ...       10780.0             NaN\n",
            "6  100760    Central Alabama Community College  ...        4440.0             NaN\n",
            "7  100812              Athens State University  ...           NaN             NaN\n",
            "8  100830      Auburn University at Montgomery  ...        8020.0             NaN\n",
            "9  100858                    Auburn University  ...       10968.0             NaN\n",
            "\n",
            "[10 rows x 9 columns]\n"
          ]
        }
      ]
    },
    {
      "cell_type": "markdown",
      "metadata": {
        "id": "Publkf_Rvc9O"
      },
      "source": [
        "- 2.look at the last 10 colleges"
      ]
    },
    {
      "cell_type": "code",
      "metadata": {
        "colab": {
          "base_uri": "https://localhost:8080/"
        },
        "id": "VtFHi78sj6Yl",
        "outputId": "d98c6f9f-0865-445f-e0ae-be2f39083650"
      },
      "source": [
        "print(df2.tail(10))"
      ],
      "execution_count": 25,
      "outputs": [
        {
          "output_type": "stream",
          "name": "stdout",
          "text": [
            "        UNITID  ... MN_EARN_WNE_P10\n",
            "7102  48154401  ...             NaN\n",
            "7103  48305401  ...             NaN\n",
            "7104  48312401  ...             NaN\n",
            "7105  48312402  ...             NaN\n",
            "7106  48312403  ...             NaN\n",
            "7107  48312404  ...             NaN\n",
            "7108  48387801  ...             NaN\n",
            "7109  48400201  ...             NaN\n",
            "7110  48778201  ...             NaN\n",
            "7111  49005401  ...             NaN\n",
            "\n",
            "[10 rows x 9 columns]\n"
          ]
        }
      ]
    },
    {
      "cell_type": "markdown",
      "metadata": {
        "id": "9i_CWQzCvgQ_"
      },
      "source": [
        "- 3.Look at a random sample of 10 colleges"
      ]
    },
    {
      "cell_type": "code",
      "metadata": {
        "colab": {
          "base_uri": "https://localhost:8080/"
        },
        "id": "2rrqdd--j-Sf",
        "outputId": "88ecd149-904c-419d-8604-8b0e8fa06b68"
      },
      "source": [
        "print(df2.sample(10))"
      ],
      "execution_count": 60,
      "outputs": [
        {
          "output_type": "stream",
          "name": "stdout",
          "text": [
            "      UNITID  ... MN_EARN_WNE_P10\n",
            "4142  366395  ...             NaN\n",
            "3271  219125  ...             NaN\n",
            "564   127778  ...             NaN\n",
            "419   120883  ...             NaN\n",
            "4344  384254  ...             NaN\n",
            "3488  227003  ...             NaN\n",
            "4037  248527  ...             NaN\n",
            "1333  157465  ...             NaN\n",
            "5253  448983  ...             NaN\n",
            "386   118967  ...             NaN\n",
            "\n",
            "[10 rows x 9 columns]\n"
          ]
        }
      ]
    },
    {
      "cell_type": "markdown",
      "metadata": {
        "id": "XP-bTkuHvMOX"
      },
      "source": [
        "## Find and display UMBC, Univ. of Maryland College Park, Loyola College Maryland, Johns Hopskins"
      ]
    },
    {
      "cell_type": "code",
      "metadata": {
        "colab": {
          "base_uri": "https://localhost:8080/"
        },
        "id": "ftjjKfhYoOKX",
        "outputId": "b23702fe-4d39-44b1-e1d1-1f0507d36bc9"
      },
      "source": [
        "df3 = pd.DataFrame()\n",
        "x = df2.loc[df2[\"INSTNM\"].str.contains('University of Maryland-Baltimore County')]\n",
        "y = df2.loc[df2[\"INSTNM\"].str.contains('University of Maryland-College Park')]\n",
        "z = df2.loc[df2[\"INSTNM\"].str.contains('Loyola University Maryland')]\n",
        "w = df2.loc[df2[\"INSTNM\"].str.contains('Johns Hopkins University')]\n",
        "a = df3.append(x)\n",
        "b = a.append(y)\n",
        "c = b.append(z)\n",
        "df3 = c.append(w)\n",
        "print(df3)"
      ],
      "execution_count": 129,
      "outputs": [
        {
          "output_type": "stream",
          "name": "stdout",
          "text": [
            "      UNITID  ... MN_EARN_WNE_P10\n",
            "1478  163268  ...             NaN\n",
            "1479  163286  ...             NaN\n",
            "1475  163046  ...             NaN\n",
            "1473  162928  ...             NaN\n",
            "\n",
            "[4 rows x 9 columns]\n"
          ]
        }
      ]
    },
    {
      "cell_type": "markdown",
      "metadata": {
        "id": "0CR9op9VvH84"
      },
      "source": [
        "## Calculate the min, max, and average in-state tution of the above four institutions."
      ]
    },
    {
      "cell_type": "code",
      "metadata": {
        "colab": {
          "base_uri": "https://localhost:8080/"
        },
        "id": "apLbtH_KtXVw",
        "outputId": "02e33474-4940-4bf7-d669-a716c9d83ae8"
      },
      "source": [
        "min_tution = df3['TUITIONFEE_IN'].min()\n",
        "min_tution"
      ],
      "execution_count": 93,
      "outputs": [
        {
          "output_type": "execute_result",
          "data": {
            "text/plain": [
              "10399.0"
            ]
          },
          "metadata": {},
          "execution_count": 93
        }
      ]
    },
    {
      "cell_type": "code",
      "metadata": {
        "colab": {
          "base_uri": "https://localhost:8080/"
        },
        "id": "53cHVu5VuBKf",
        "outputId": "32b57bb8-dcbf-471f-f957-f8b9c987c00b"
      },
      "source": [
        "max_tution = df3['TUITIONFEE_IN'].max()\n",
        "max_tution"
      ],
      "execution_count": 94,
      "outputs": [
        {
          "output_type": "execute_result",
          "data": {
            "text/plain": [
              "52170.0"
            ]
          },
          "metadata": {},
          "execution_count": 94
        }
      ]
    },
    {
      "cell_type": "code",
      "metadata": {
        "colab": {
          "base_uri": "https://localhost:8080/"
        },
        "id": "VIoBM2uUucjQ",
        "outputId": "cb03a090-abe8-4f69-d829-bec2dd894e11"
      },
      "source": [
        "avg_tution = df3['TUITIONFEE_IN'].mean()\n",
        "avg_tution"
      ],
      "execution_count": 99,
      "outputs": [
        {
          "output_type": "execute_result",
          "data": {
            "text/plain": [
              "30411.75"
            ]
          },
          "metadata": {},
          "execution_count": 99
        }
      ]
    },
    {
      "cell_type": "markdown",
      "metadata": {
        "id": "Z0u8namVvnTZ"
      },
      "source": [
        "## Filter the smaller dataset further to only keep colleges from Maryland,Virgina, Washington DC, Delaware, and Pennsylvinia."
      ]
    },
    {
      "cell_type": "code",
      "metadata": {
        "colab": {
          "base_uri": "https://localhost:8080/"
        },
        "id": "l8_4tz0CvrjG",
        "outputId": "5c4d15eb-5cf4-47a4-d75c-1a38237a7a5e"
      },
      "source": [
        "df4 = pd.DataFrame()\n",
        "x = df2.loc[df2[\"INSTNM\"].str.contains('Maryland')]\n",
        "y = df2.loc[df2[\"INSTNM\"].str.contains('Washington DC')]\n",
        "z = df2.loc[df2[\"INSTNM\"].str.contains('Delaware')]\n",
        "w = df2.loc[df2[\"INSTNM\"].str.contains('Pennsylvinia')]\n",
        "a = df4.append(x)\n",
        "b = a.append(y)\n",
        "c = b.append(z)\n",
        "df4 = c.append(w)\n",
        "print(df4)"
      ],
      "execution_count": 130,
      "outputs": [
        {
          "output_type": "stream",
          "name": "stdout",
          "text": [
            "        UNITID  ... MN_EARN_WNE_P10\n",
            "1447    161688  ...             NaN\n",
            "1457    162122  ...             NaN\n",
            "1472    162830  ...             NaN\n",
            "1475    163046  ...             NaN\n",
            "1476    163204  ...             NaN\n",
            "1477    163259  ...             NaN\n",
            "1478    163268  ...             NaN\n",
            "1479    163286  ...             NaN\n",
            "1480    163295  ...             NaN\n",
            "1481    163338  ...             NaN\n",
            "1489    163578  ...             NaN\n",
            "1493    163815  ...             NaN\n",
            "1495    163912  ...             NaN\n",
            "1499    164085  ...             NaN\n",
            "4677    430184  ...             NaN\n",
            "4770    434973  ...             NaN\n",
            "4348    384412  ...             NaN\n",
            "5328    450483  ...             NaN\n",
            "5739    459745  ...             NaN\n",
            "6717  12697901  ...             NaN\n",
            "636     130907  ...             NaN\n",
            "637     130934  ...             NaN\n",
            "638     130943  ...             NaN\n",
            "2980    211927  ...             NaN\n",
            "2981    211981  ...             NaN\n",
            "4542    418010  ...             NaN\n",
            "4695    430971  ...             NaN\n",
            "4729    432524  ...             NaN\n",
            "5275    449472  ...             NaN\n",
            "5322    450298  ...             NaN\n",
            "5718    459301  ...             NaN\n",
            "6725  13090701  ...             NaN\n",
            "6726  13090702  ...             NaN\n",
            "7020  44378401  ...             NaN\n",
            "7084  47503303  ...             NaN\n",
            "\n",
            "[35 rows x 9 columns]\n"
          ]
        }
      ]
    },
    {
      "cell_type": "markdown",
      "metadata": {
        "id": "m5pmEKp_yMKf"
      },
      "source": [
        "## Save the filtered dataset to a new file named \"Five_States_Colleges.csv\" for future analysis"
      ]
    },
    {
      "cell_type": "code",
      "metadata": {
        "id": "FBkqhg870LqX"
      },
      "source": [
        "df4.to_csv('Five_States_Colleges.csv')"
      ],
      "execution_count": 128,
      "outputs": []
    }
  ]
}