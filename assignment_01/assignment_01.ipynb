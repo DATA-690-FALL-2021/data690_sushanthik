{
  "nbformat": 4,
  "nbformat_minor": 0,
  "metadata": {
    "colab": {
      "name": "assignment_01.ipynb",
      "provenance": [],
      "authorship_tag": "ABX9TyMNeDrvEalWBO2Jb4lgb/Yk",
      "include_colab_link": true
    },
    "kernelspec": {
      "name": "python3",
      "display_name": "Python 3"
    },
    "language_info": {
      "name": "python"
    }
  },
  "cells": [
    {
      "cell_type": "markdown",
      "metadata": {
        "id": "view-in-github",
        "colab_type": "text"
      },
      "source": [
        "<a href=\"https://colab.research.google.com/github/SushanthikPoreddy/data690_sushanthik/blob/main/assignment_01/assignment_01.ipynb\" target=\"_parent\"><img src=\"https://colab.research.google.com/assets/colab-badge.svg\" alt=\"Open In Colab\"/></a>"
      ]
    },
    {
      "cell_type": "markdown",
      "metadata": {
        "id": "allez8BBOGNE"
      },
      "source": [
        "# Assignmnet 1 for DATA 690 FALL 2021\n",
        "\n",
        "- Instructor: Dr Jay Wang\n",
        "- Student: Sushanthik Reddy\n",
        "- Date:09/02/2021\n",
        "\n",
        "This is for demonstrating the use of Jupyter Notebook"
      ]
    },
    {
      "cell_type": "markdown",
      "metadata": {
        "id": "URzQJxsJQZbn"
      },
      "source": [
        "##  1. Simple Python code"
      ]
    },
    {
      "cell_type": "code",
      "metadata": {
        "colab": {
          "base_uri": "https://localhost:8080/"
        },
        "id": "f3CtIGUxPkU8",
        "outputId": "fed1c17c-21f6-44ee-b4f2-c5856d92e65e"
      },
      "source": [
        "print ('hello world')"
      ],
      "execution_count": 8,
      "outputs": [
        {
          "output_type": "stream",
          "name": "stdout",
          "text": [
            "hello world\n"
          ]
        }
      ]
    },
    {
      "cell_type": "markdown",
      "metadata": {
        "id": "5_aiQQH-QKd9"
      },
      "source": [
        "## 2. Perform Multiplication"
      ]
    },
    {
      "cell_type": "code",
      "metadata": {
        "colab": {
          "base_uri": "https://localhost:8080/"
        },
        "id": "yz3AUZA7OBx1",
        "outputId": "eb70aece-7717-46d6-e1f7-4b4a10d8f22a"
      },
      "source": [
        "x=12*2\n",
        "print(x)"
      ],
      "execution_count": 9,
      "outputs": [
        {
          "output_type": "stream",
          "name": "stdout",
          "text": [
            "24\n"
          ]
        }
      ]
    },
    {
      "cell_type": "markdown",
      "metadata": {
        "id": "q3UF_iKVQSZ2"
      },
      "source": [
        "## 3. Perform Division"
      ]
    },
    {
      "cell_type": "code",
      "metadata": {
        "colab": {
          "base_uri": "https://localhost:8080/"
        },
        "id": "gKzYoVplPzdV",
        "outputId": "af1e23cd-69e0-4812-b36c-2d11a9b4c6c0"
      },
      "source": [
        "y=24\n",
        "z=y/x\n",
        "print(z)"
      ],
      "execution_count": 6,
      "outputs": [
        {
          "output_type": "stream",
          "name": "stdout",
          "text": [
            "1.0\n"
          ]
        }
      ]
    }
  ]
}